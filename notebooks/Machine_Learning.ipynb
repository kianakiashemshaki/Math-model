{
 "cells": [
  {
   "cell_type": "code",
   "execution_count": 107,
   "metadata": {},
   "outputs": [],
   "source": [
    "import warnings\n",
    "warnings.filterwarnings(\"ignore\")\n",
    "import pandas as pd\n",
    "import numpy as np\n",
    "import plotly.express as px\n",
    "from summarytools import dfSummary\n",
    "from scipy.stats import chi2_contingency\n",
    "import joblib\n",
    "import pickle\n",
    "\n",
    "\n",
    "from sklearn.model_selection import train_test_split\n",
    "from sklearn.pipeline import Pipeline\n",
    "from sklearn.compose import ColumnTransformer\n",
    "from sklearn.preprocessing import LabelEncoder, OneHotEncoder, StandardScaler, MinMaxScaler\n",
    "from imblearn.pipeline import Pipeline\n",
    "\n",
    "from sklearn.linear_model import LogisticRegression\n",
    "from sklearn.neighbors import KNeighborsClassifier\n",
    "from sklearn.svm import SVC \n",
    "from sklearn.tree import DecisionTreeClassifier\n",
    "from sklearn.ensemble import RandomForestClassifier, \\\n",
    "    AdaBoostClassifier, ExtraTreesClassifier, GradientBoostingClassifier\n",
    "from sklearn.naive_bayes import GaussianNB\n",
    "import xgboost as xgb \n",
    "from sklearn.preprocessing import FunctionTransformer\n",
    "\n",
    "from sklearn.metrics import accuracy_score, \\\n",
    "    precision_score, recall_score, f1_score\n",
    "from sklearn.model_selection import GridSearchCV\n",
    "from xgboost import plot_importance\n",
    "\n"
   ]
  },
  {
   "cell_type": "markdown",
   "metadata": {},
   "source": [
    "### Read Data"
   ]
  },
  {
   "cell_type": "code",
   "execution_count": 108,
   "metadata": {},
   "outputs": [],
   "source": [
    "df = pd.read_csv('../data/Math.csv', sep=';', encoding='ISO-8859-1')"
   ]
  },
  {
   "cell_type": "markdown",
   "metadata": {},
   "source": [
    "### Data Exploration"
   ]
  },
  {
   "cell_type": "code",
   "execution_count": 109,
   "metadata": {},
   "outputs": [
    {
     "data": {
      "text/html": [
       "<div>\n",
       "<style scoped>\n",
       "    .dataframe tbody tr th:only-of-type {\n",
       "        vertical-align: middle;\n",
       "    }\n",
       "\n",
       "    .dataframe tbody tr th {\n",
       "        vertical-align: top;\n",
       "    }\n",
       "\n",
       "    .dataframe thead th {\n",
       "        text-align: right;\n",
       "    }\n",
       "</style>\n",
       "<table border=\"1\" class=\"dataframe\">\n",
       "  <thead>\n",
       "    <tr style=\"text-align: right;\">\n",
       "      <th></th>\n",
       "      <th>Student ID</th>\n",
       "      <th>Student Country</th>\n",
       "      <th>Question ID</th>\n",
       "      <th>Type of Answer</th>\n",
       "      <th>Question Level</th>\n",
       "      <th>Topic</th>\n",
       "      <th>Subtopic</th>\n",
       "      <th>Keywords</th>\n",
       "    </tr>\n",
       "  </thead>\n",
       "  <tbody>\n",
       "    <tr>\n",
       "      <th>0</th>\n",
       "      <td>647</td>\n",
       "      <td>Ireland</td>\n",
       "      <td>77</td>\n",
       "      <td>0</td>\n",
       "      <td>Basic</td>\n",
       "      <td>Statistics</td>\n",
       "      <td>Statistics</td>\n",
       "      <td>Stem and Leaf diagram,Relative frequency,Sampl...</td>\n",
       "    </tr>\n",
       "    <tr>\n",
       "      <th>1</th>\n",
       "      <td>41</td>\n",
       "      <td>Portugal</td>\n",
       "      <td>77</td>\n",
       "      <td>1</td>\n",
       "      <td>Basic</td>\n",
       "      <td>Statistics</td>\n",
       "      <td>Statistics</td>\n",
       "      <td>Stem and Leaf diagram,Relative frequency,Sampl...</td>\n",
       "    </tr>\n",
       "    <tr>\n",
       "      <th>2</th>\n",
       "      <td>340</td>\n",
       "      <td>Portugal</td>\n",
       "      <td>77</td>\n",
       "      <td>1</td>\n",
       "      <td>Basic</td>\n",
       "      <td>Statistics</td>\n",
       "      <td>Statistics</td>\n",
       "      <td>Stem and Leaf diagram,Relative frequency,Sampl...</td>\n",
       "    </tr>\n",
       "    <tr>\n",
       "      <th>3</th>\n",
       "      <td>641</td>\n",
       "      <td>Italy</td>\n",
       "      <td>77</td>\n",
       "      <td>0</td>\n",
       "      <td>Basic</td>\n",
       "      <td>Statistics</td>\n",
       "      <td>Statistics</td>\n",
       "      <td>Stem and Leaf diagram,Relative frequency,Sampl...</td>\n",
       "    </tr>\n",
       "    <tr>\n",
       "      <th>4</th>\n",
       "      <td>669</td>\n",
       "      <td>Portugal</td>\n",
       "      <td>77</td>\n",
       "      <td>1</td>\n",
       "      <td>Basic</td>\n",
       "      <td>Statistics</td>\n",
       "      <td>Statistics</td>\n",
       "      <td>Stem and Leaf diagram,Relative frequency,Sampl...</td>\n",
       "    </tr>\n",
       "  </tbody>\n",
       "</table>\n",
       "</div>"
      ],
      "text/plain": [
       "   Student ID Student Country  Question ID  Type of Answer Question Level  \\\n",
       "0         647         Ireland           77               0          Basic   \n",
       "1          41        Portugal           77               1          Basic   \n",
       "2         340        Portugal           77               1          Basic   \n",
       "3         641           Italy           77               0          Basic   \n",
       "4         669        Portugal           77               1          Basic   \n",
       "\n",
       "        Topic    Subtopic                                           Keywords  \n",
       "0  Statistics  Statistics  Stem and Leaf diagram,Relative frequency,Sampl...  \n",
       "1  Statistics  Statistics  Stem and Leaf diagram,Relative frequency,Sampl...  \n",
       "2  Statistics  Statistics  Stem and Leaf diagram,Relative frequency,Sampl...  \n",
       "3  Statistics  Statistics  Stem and Leaf diagram,Relative frequency,Sampl...  \n",
       "4  Statistics  Statistics  Stem and Leaf diagram,Relative frequency,Sampl...  "
      ]
     },
     "execution_count": 109,
     "metadata": {},
     "output_type": "execute_result"
    }
   ],
   "source": [
    "df.head()"
   ]
  },
  {
   "cell_type": "code",
   "execution_count": 110,
   "metadata": {},
   "outputs": [
    {
     "name": "stdout",
     "output_type": "stream",
     "text": [
      "<class 'pandas.core.frame.DataFrame'>\n",
      "RangeIndex: 9546 entries, 0 to 9545\n",
      "Data columns (total 8 columns):\n",
      " #   Column           Non-Null Count  Dtype \n",
      "---  ------           --------------  ----- \n",
      " 0   Student ID       9546 non-null   int64 \n",
      " 1   Student Country  9546 non-null   object\n",
      " 2   Question ID      9546 non-null   int64 \n",
      " 3   Type of Answer   9546 non-null   int64 \n",
      " 4   Question Level   9546 non-null   object\n",
      " 5   Topic            9546 non-null   object\n",
      " 6   Subtopic         9546 non-null   object\n",
      " 7   Keywords         9546 non-null   object\n",
      "dtypes: int64(3), object(5)\n",
      "memory usage: 596.8+ KB\n"
     ]
    }
   ],
   "source": [
    "df.info()"
   ]
  },
  {
   "cell_type": "code",
   "execution_count": 111,
   "metadata": {},
   "outputs": [
    {
     "data": {
      "text/html": [
       "<div>\n",
       "<style scoped>\n",
       "    .dataframe tbody tr th:only-of-type {\n",
       "        vertical-align: middle;\n",
       "    }\n",
       "\n",
       "    .dataframe tbody tr th {\n",
       "        vertical-align: top;\n",
       "    }\n",
       "\n",
       "    .dataframe thead th {\n",
       "        text-align: right;\n",
       "    }\n",
       "</style>\n",
       "<table border=\"1\" class=\"dataframe\">\n",
       "  <thead>\n",
       "    <tr style=\"text-align: right;\">\n",
       "      <th></th>\n",
       "      <th>Student ID</th>\n",
       "      <th>Question ID</th>\n",
       "      <th>Type of Answer</th>\n",
       "    </tr>\n",
       "  </thead>\n",
       "  <tbody>\n",
       "    <tr>\n",
       "      <th>count</th>\n",
       "      <td>9546.000000</td>\n",
       "      <td>9546.000000</td>\n",
       "      <td>9546.000000</td>\n",
       "    </tr>\n",
       "    <tr>\n",
       "      <th>mean</th>\n",
       "      <td>775.402263</td>\n",
       "      <td>478.912319</td>\n",
       "      <td>0.468259</td>\n",
       "    </tr>\n",
       "    <tr>\n",
       "      <th>std</th>\n",
       "      <td>460.590559</td>\n",
       "      <td>249.244061</td>\n",
       "      <td>0.499018</td>\n",
       "    </tr>\n",
       "    <tr>\n",
       "      <th>min</th>\n",
       "      <td>26.000000</td>\n",
       "      <td>77.000000</td>\n",
       "      <td>0.000000</td>\n",
       "    </tr>\n",
       "    <tr>\n",
       "      <th>25%</th>\n",
       "      <td>380.000000</td>\n",
       "      <td>323.000000</td>\n",
       "      <td>0.000000</td>\n",
       "    </tr>\n",
       "    <tr>\n",
       "      <th>50%</th>\n",
       "      <td>885.000000</td>\n",
       "      <td>428.000000</td>\n",
       "      <td>0.000000</td>\n",
       "    </tr>\n",
       "    <tr>\n",
       "      <th>75%</th>\n",
       "      <td>1219.000000</td>\n",
       "      <td>571.000000</td>\n",
       "      <td>1.000000</td>\n",
       "    </tr>\n",
       "    <tr>\n",
       "      <th>max</th>\n",
       "      <td>1565.000000</td>\n",
       "      <td>1549.000000</td>\n",
       "      <td>1.000000</td>\n",
       "    </tr>\n",
       "  </tbody>\n",
       "</table>\n",
       "</div>"
      ],
      "text/plain": [
       "        Student ID  Question ID  Type of Answer\n",
       "count  9546.000000  9546.000000     9546.000000\n",
       "mean    775.402263   478.912319        0.468259\n",
       "std     460.590559   249.244061        0.499018\n",
       "min      26.000000    77.000000        0.000000\n",
       "25%     380.000000   323.000000        0.000000\n",
       "50%     885.000000   428.000000        0.000000\n",
       "75%    1219.000000   571.000000        1.000000\n",
       "max    1565.000000  1549.000000        1.000000"
      ]
     },
     "execution_count": 111,
     "metadata": {},
     "output_type": "execute_result"
    }
   ],
   "source": [
    "df.describe()"
   ]
  },
  {
   "cell_type": "code",
   "execution_count": 112,
   "metadata": {},
   "outputs": [
    {
     "data": {
      "text/html": [
       "<style type=\"text/css\">\n",
       "#T_952f0 thead>tr>th {\n",
       "  text-align: left;\n",
       "}\n",
       "#T_952f0_row0_col0, #T_952f0_row1_col0, #T_952f0_row2_col0, #T_952f0_row3_col0, #T_952f0_row4_col0, #T_952f0_row5_col0, #T_952f0_row6_col0, #T_952f0_row7_col0 {\n",
       "  text-align: left;\n",
       "  font-size: 12px;\n",
       "  vertical-align: middle;\n",
       "  width: 5%;\n",
       "  max-width: 50px;\n",
       "  min-width: 20px;\n",
       "}\n",
       "#T_952f0_row0_col1, #T_952f0_row1_col1, #T_952f0_row2_col1, #T_952f0_row3_col1, #T_952f0_row4_col1, #T_952f0_row5_col1, #T_952f0_row6_col1, #T_952f0_row7_col1 {\n",
       "  text-align: left;\n",
       "  font-size: 12px;\n",
       "  vertical-align: middle;\n",
       "  width: 15%;\n",
       "  max-width: 200px;\n",
       "  min-width: 100px;\n",
       "  word-break: break-word;\n",
       "}\n",
       "#T_952f0_row0_col2, #T_952f0_row1_col2, #T_952f0_row2_col2, #T_952f0_row3_col2, #T_952f0_row4_col2, #T_952f0_row5_col2, #T_952f0_row6_col2, #T_952f0_row7_col2 {\n",
       "  text-align: left;\n",
       "  font-size: 12px;\n",
       "  vertical-align: middle;\n",
       "  width: 30%;\n",
       "  min-width: 100px;\n",
       "}\n",
       "#T_952f0_row0_col3, #T_952f0_row1_col3, #T_952f0_row2_col3, #T_952f0_row3_col3, #T_952f0_row4_col3, #T_952f0_row5_col3, #T_952f0_row6_col3, #T_952f0_row7_col3 {\n",
       "  text-align: left;\n",
       "  font-size: 12px;\n",
       "  vertical-align: middle;\n",
       "  width: 25%;\n",
       "  min-width: 100px;\n",
       "}\n",
       "#T_952f0_row0_col4, #T_952f0_row1_col4, #T_952f0_row2_col4, #T_952f0_row3_col4, #T_952f0_row4_col4, #T_952f0_row5_col4, #T_952f0_row6_col4, #T_952f0_row7_col4 {\n",
       "  text-align: left;\n",
       "  font-size: 12px;\n",
       "  vertical-align: middle;\n",
       "  width: 20%;\n",
       "  min-width: 150px;\n",
       "}\n",
       "#T_952f0_row0_col5, #T_952f0_row1_col5, #T_952f0_row2_col5, #T_952f0_row3_col5, #T_952f0_row4_col5, #T_952f0_row5_col5, #T_952f0_row6_col5, #T_952f0_row7_col5 {\n",
       "  text-align: left;\n",
       "  font-size: 12px;\n",
       "  vertical-align: middle;\n",
       "  width: 10%;\n",
       "}\n",
       "</style>\n",
       "<table id=\"T_952f0\">\n",
       "  <caption><strong>Data Frame Summary</strong><br>df<br>Dimensions: 9,546 x 8<br>Duplicates: 2,083</caption>\n",
       "  <thead>\n",
       "    <tr>\n",
       "      <th id=\"T_952f0_level0_col0\" class=\"col_heading level0 col0\" >No</th>\n",
       "      <th id=\"T_952f0_level0_col1\" class=\"col_heading level0 col1\" >Variable</th>\n",
       "      <th id=\"T_952f0_level0_col2\" class=\"col_heading level0 col2\" >Stats / Values</th>\n",
       "      <th id=\"T_952f0_level0_col3\" class=\"col_heading level0 col3\" >Freqs / (% of Valid)</th>\n",
       "      <th id=\"T_952f0_level0_col4\" class=\"col_heading level0 col4\" >Graph</th>\n",
       "      <th id=\"T_952f0_level0_col5\" class=\"col_heading level0 col5\" >Missing</th>\n",
       "    </tr>\n",
       "  </thead>\n",
       "  <tbody>\n",
       "    <tr>\n",
       "      <td id=\"T_952f0_row0_col0\" class=\"data row0 col0\" >1</td>\n",
       "      <td id=\"T_952f0_row0_col1\" class=\"data row0 col1\" ><strong>Student ID</strong><br>[int64]</td>\n",
       "      <td id=\"T_952f0_row0_col2\" class=\"data row0 col2\" >Mean (sd) : 775.4 (460.6)<br>min < med < max:<br>26.0 < 885.0 < 1565.0<br>IQR (CV) : 839.0 (1.7)</td>\n",
       "      <td id=\"T_952f0_row0_col3\" class=\"data row0 col3\" >372 distinct values</td>\n",
       "      <td id=\"T_952f0_row0_col4\" class=\"data row0 col4\" ><img src = \"data:image/png;base64, iVBORw0KGgoAAAANSUhEUgAAAKoAAABGCAYAAABc8A97AAAAOXRFWHRTb2Z0d2FyZQBNYXRwbG90bGliIHZlcnNpb24zLjkuMiwgaHR0cHM6Ly9tYXRwbG90bGliLm9yZy8hTgPZAAAACXBIWXMAAA9hAAAPYQGoP6dpAAACsklEQVR4nO3cz4raQBzA8d/UVaJCggh68wUKPXj0IfqwfYQefALfwJsgIWK6wZikh9JF6FbNjNH5Dd/PeTObw5dO50/WNE0jgO++vPoFgHu83foBY8xQRAaW45+apnm3fBb4cDVUY8xwOp1+j+N4YjP44XBIjTE/iBWubv2LOojjeLJard6TJCnaDJxlWbReryf7/X4gIoQKJzenfhGRJEmK2Wz2y2L8ocUzwD9YTEEFQoUKhAoVCBUqECpUIFSoQKhQgVChwl0b/tAj1LsZhBqQkO9mEGpYgr2bQaiecZy647qu+0mSpKHdzSBUj7hO3WVZRlVVfS2K4qeI2ITqLUL1i/XULSKy3W4nm81mdD6fe1283CsRqodsr1Wmaert1O2KfVSoQKhQgVChAqFCBUKFCoQKFQgVKhAqVCBUqECoUMHrI9RQLwGjPW9DDfkSMNrzNlQJ+BIw2vM5VBHhD7ThDxZTUIFQoYL3Uz+ep6qqvojExhjbITrbaSFUiIhInuf9siy/LRaLXq/Xa/0ZjEi3Oy2E2gGH/d+4ruv+o9/nHqfT6S2KotFyuSzm83na9vmud1qCDfVV05jL/q8PX5GOx2PbXRaRDndaggz1xdOY9f5vyF+RugoyVB+mMZv935C/InUVZKh/+TqNoT32UaECoUIFQoUKhAoVCBUqECpUCHp7Cs/leBp49SSQUPEQrqeBt04CCRUP4XIaeM9JIKHioRxOA6+eBLKYggqEChWY+v/DYQX7ssvPISPUT7isYH24/BwiQv2EywqWy8/dINQrbFawXH7uBospqECoUKHTqd/x7JfVMz50Fqrr2S+rZ1zqLFTXL0FZPeNS56t+27NfVs+4xGIKKhAqVCBUqHDX/1GzLIvaDnw8HiMRkTzPo91uN3rm81p/t9b3dn3+nr5+A5EGvMXYDrlqAAAAAElFTkSuQmCC\"></img></td>\n",
       "      <td id=\"T_952f0_row0_col5\" class=\"data row0 col5\" >0<br>(0.0%)</td>\n",
       "    </tr>\n",
       "    <tr>\n",
       "      <td id=\"T_952f0_row1_col0\" class=\"data row1 col0\" >2</td>\n",
       "      <td id=\"T_952f0_row1_col1\" class=\"data row1 col1\" ><strong>Student Country</strong><br>[object]</td>\n",
       "      <td id=\"T_952f0_row1_col2\" class=\"data row1 col2\" >1. Portugal<br>2. Lithuania<br>3. Italy<br>4. Slovenia<br>5. Ireland<br>6. Russian Federation<br>7. Romania<br>8. Spain</td>\n",
       "      <td id=\"T_952f0_row1_col3\" class=\"data row1 col3\" >5,495 (57.6%)<br>1,443 (15.1%)<br>1,358 (14.2%)<br>755 (7.9%)<br>300 (3.1%)<br>107 (1.1%)<br>60 (0.6%)<br>28 (0.3%)</td>\n",
       "      <td id=\"T_952f0_row1_col4\" class=\"data row1 col4\" ><img src = \"data:image/png;base64, iVBORw0KGgoAAAANSUhEUgAAAJsAAAC4CAYAAAD0WZ4UAAAAOXRFWHRTb2Z0d2FyZQBNYXRwbG90bGliIHZlcnNpb24zLjkuMiwgaHR0cHM6Ly9tYXRwbG90bGliLm9yZy8hTgPZAAAACXBIWXMAAA9hAAAPYQGoP6dpAAADaUlEQVR4nO3dQU7bUBiF0d9RRJuJoygSS2hnLIBFsNguIgtg2D2gCA8aYJIOSimEMEjgXVfhnBU8VV9tbPlCt91uCxImYx+Az0NsxIiNGLERIzZixEZMV1Wzqjob+yAn7mG73W7GPsTYpsvl8qrv+8XYBzllwzCsu6778dmDm/Z9v7i8vNzM5/O7sQ9zim5vb7+uVqvFzc3NWVV97tiqqubz+d35+fmvsQ9zwmZjH+B/4AGBGLERIzZixEaM2IgRGzFiI0ZsxIiNGLERIzZixEaM2IiZVv35DGbsg5wq/7b/TIdhWK9Wq0X5DKaZYRjWVfUw9jnG5rPwDJ+FV1Xn1y+Q0vrK5n80T5oOXgw9eK7Z4MXQg12tBy+ecHnipS4xYiNGbMSIjRixESM2YsRGjNiIERsxYiNGbMSIjRixEdNs8GLowa6mgxdDD57zWTgxBi/EeEAgpuVt1C2UF5qtqyyr2NVkXWVZxT4t11WWVbzgAYEYsREjNmLERozYiBEbMWIjRmzEiI0YsREjNmLERozYiGmyrrKsYp9m6yrLKnb5LJwY6ypijrmyuWJxlIMHL4YsHOugwYshC+9xzODFkIWjeKlLjNiIERsxYiNGbMSIjRixESM2YsRGjNiIERsxYiNGbMQcNHgxZOE9Dh68GLJwLJ+FE2PwQowHBGLeuo26VfLh9q6rLKho4dW6yoKKVt5aV1lQ8eE8IBAjNmLERozYiBEbMWIjRmzEiI0YsREjNmLERozYiBEbMa/WVRZUtLJ3XWVBRQs+CyfGuoqY51c2VzOaehq8GLnQ2qTv+8XFxUU9Lqxa/ClIqKrH92yz2ex+7INw+rzUJUZsxIiNGLERIzZixEaM2IgRGzFiI0ZsxIiNGLERIzZixEbMpKpqs9l8GfsgnL7JMAzr6+triyqas0EgxrqKmL9XtnJVo7Xpcrm8qqqyrKK1Sd/3C8sqErxnI0ZsxIiNGLERIzZixEaM2IgRGzFiI0ZsxIiNGLERIzZixEaM2IiZPg5dqoxdaMxn4cQYvBDjZzZiJl3Xfe+6zt8YpblJVX2rKr9+gebcRokRGzFiI0ZsxIiNGLERIzZixEaM2IgRGzFiI0ZsxIiNGLERIzZixEbMpKp+VtX92Afh9Bm8EOM2SozYiBEbMWIjRmzEiI2Y35IST3t9PRJOAAAAAElFTkSuQmCC\"></img></td>\n",
       "      <td id=\"T_952f0_row1_col5\" class=\"data row1 col5\" >0<br>(0.0%)</td>\n",
       "    </tr>\n",
       "    <tr>\n",
       "      <td id=\"T_952f0_row2_col0\" class=\"data row2 col0\" >3</td>\n",
       "      <td id=\"T_952f0_row2_col1\" class=\"data row2 col1\" ><strong>Question ID</strong><br>[int64]</td>\n",
       "      <td id=\"T_952f0_row2_col2\" class=\"data row2 col2\" >Mean (sd) : 478.9 (249.2)<br>min < med < max:<br>77.0 < 428.0 < 1549.0<br>IQR (CV) : 248.0 (1.9)</td>\n",
       "      <td id=\"T_952f0_row2_col3\" class=\"data row2 col3\" >833 distinct values</td>\n",
       "      <td id=\"T_952f0_row2_col4\" class=\"data row2 col4\" ><img src = \"data:image/png;base64, iVBORw0KGgoAAAANSUhEUgAAAKoAAABGCAYAAABc8A97AAAAOXRFWHRTb2Z0d2FyZQBNYXRwbG90bGliIHZlcnNpb24zLjkuMiwgaHR0cHM6Ly9tYXRwbG90bGliLm9yZy8hTgPZAAAACXBIWXMAAA9hAAAPYQGoP6dpAAACsElEQVR4nO3cT24aMRiH4c+FoIFIgxAV7LhApS5Y5hA9bI7QSJwgN8gOaYQ8gkKBYbpqV2kS7JkyP/d99k68eGXmn+3qujag6z7degLAR/RvPYG3OOeGZjYIHH6s63rf5HxwO50N1Tk3nE6n3/I8n4SML8ty45x7JNY0dDZUMxvkeT55eHjYj8fjwzUDvffZarWaFEUxMDNCTUCXQzUzs/F4fJjNZj8Chg4bnwxuhpspSCBUSCBUSCBUSCBUSCBUSCBUSCBUSCBUSCBUSCBUSCBUSCBUSCBUSCBUSCBUSCBUSCBUSCBUSCBUSCBUSCBUSCBUSCBUSCBUSGj1pJTIQ87yy+Vy1+R8oKu1UGMPOTudTllVVV8Oh8N3Mws50gcJaXNFDT7kzMzs5eVl8vz8PDqfz702JgctrR+SFnrI2Waz4ZAz/MHNFCQQKiQQKiQQKiQQKiQQKiQQKiQQKiQQKiQQKiQQKiQQKiQQKiQQKiQQKiS8+z1qxHYStpKgMW+GGrOdhK0kaNJ7K2rwdhL1rSSRGxOPdV3vm5zP/+5DW1FCtpMobyWJ3ZhYluXGOfdIrM1pfc+UqOBfEu99tlqtJkVRDMyMUBtCqG8I3ZhoZrK/Jl2VbKhVVd2ZWe6cCxnOE4uOSTLU3W53dzqdvi4Wi16v17v6TAGeWHRPkqEej8d+lmWj5XJ5mM/nm2vHqz+xSFGSof52f3/P4ReJ4BUqJCS9ot5K5I0cLwteQagNi72R42XB6wi1YTE3ct777OnpaVYUxWfnXBk6hRQjJ9SWhNzIxa7GZumuyITaIbGP1RpYkTu7GhNqB4U+Vkv5+phQExJ7fdzlj2kINUGhK7J1+GOaD4Xqvc+u/cPb7TYzM9vtdtl6vR79y/Gq//uW8/beZ1VV9S38+W+sn3Vd//Vy5Rd4F2Vd7qZpYgAAAABJRU5ErkJggg==\"></img></td>\n",
       "      <td id=\"T_952f0_row2_col5\" class=\"data row2 col5\" >0<br>(0.0%)</td>\n",
       "    </tr>\n",
       "    <tr>\n",
       "      <td id=\"T_952f0_row3_col0\" class=\"data row3 col0\" >4</td>\n",
       "      <td id=\"T_952f0_row3_col1\" class=\"data row3 col1\" ><strong>Type of Answer</strong><br>[int64]</td>\n",
       "      <td id=\"T_952f0_row3_col2\" class=\"data row3 col2\" >1. 0<br>2. 1</td>\n",
       "      <td id=\"T_952f0_row3_col3\" class=\"data row3 col3\" >5,076 (53.2%)<br>4,470 (46.8%)</td>\n",
       "      <td id=\"T_952f0_row3_col4\" class=\"data row3 col4\" ><img src = \"data:image/png;base64, iVBORw0KGgoAAAANSUhEUgAAAJsAAAAuCAYAAAA/ZmtKAAAAOXRFWHRTb2Z0d2FyZQBNYXRwbG90bGliIHZlcnNpb24zLjkuMiwgaHR0cHM6Ly9tYXRwbG90bGliLm9yZy8hTgPZAAAACXBIWXMAAA9hAAAPYQGoP6dpAAABO0lEQVR4nO3bQWrDMBRF0a8iQjORMAYvxovoYrsI7cYYa5CETJRBx8GCiie7vWcFH3MxJPi5UooBCs7MrmZ26X3IH/Aspdx7H3FkfhzHrxDC0PuQs8s5r865b4J7z4cQhnme7zHGR+9jzmrbts+U0rAsy8XMiO0Nb2YWY3xM03TrfczJXXsfcHQfvQ/A/0FskCE2yBAbZIgNMsQGGWKDDLFBhtggQ2yQITbIEBtkiA0yxAYZYoOMN/v5+K/3IWfG86vjc85rSmkwPv77lZzzambP3nccGYOXdhi87HBM+aDCm60Ob60GmPJVYKbXBlO+Hcz02mHKV4df6g3wpy5kiA0yxAYZYoMMsUGG2CBDbJAhNsgQG2SIDTLEBhligwyxQYbYIENskGHKt4Nn0w5TvgrM9Npg8FKHwUsDLwpbat+d/9voAAAAAElFTkSuQmCC\"></img></td>\n",
       "      <td id=\"T_952f0_row3_col5\" class=\"data row3 col5\" >0<br>(0.0%)</td>\n",
       "    </tr>\n",
       "    <tr>\n",
       "      <td id=\"T_952f0_row4_col0\" class=\"data row4 col0\" >5</td>\n",
       "      <td id=\"T_952f0_row4_col1\" class=\"data row4 col1\" ><strong>Question Level</strong><br>[object]</td>\n",
       "      <td id=\"T_952f0_row4_col2\" class=\"data row4 col2\" >1. Basic<br>2. Advanced</td>\n",
       "      <td id=\"T_952f0_row4_col3\" class=\"data row4 col3\" >7,844 (82.2%)<br>1,702 (17.8%)</td>\n",
       "      <td id=\"T_952f0_row4_col4\" class=\"data row4 col4\" ><img src = \"data:image/png;base64, iVBORw0KGgoAAAANSUhEUgAAAJsAAAAuCAYAAAA/ZmtKAAAAOXRFWHRTb2Z0d2FyZQBNYXRwbG90bGliIHZlcnNpb24zLjkuMiwgaHR0cHM6Ly9tYXRwbG90bGliLm9yZy8hTgPZAAAACXBIWXMAAA9hAAAPYQGoP6dpAAABLUlEQVR4nO3bwYnDMBQG4afFhM1FwhhcTIrYYrcIdWOMdUhCLt7D9jASeL4GXiCTQIL/dJ5nSIQUEfeIuPV+Ieric57nizo2Lcvyk3OeqYMaR2ttTyn9UsFNOef58Xi8Silv4qDGcBzHd6113rbtFhFMbBERpZT3uq5P4qCGciePfZHHdG3GJoyxCWNswhibMMYmjLEJY2zCGJswxiaMsQljbMIYmzDGJoyxCTNF/D9I1/uFiNXjPZ9aa3utdQ74QTr111rbI+JD3XPwcm3o4CU55ROlxzcb+mnSOPApHz0f0zjQKV+P+ZjG0WPK56/ei/JPXWGMTRhjE8bYhDE2YYxNGGMTxtiEMTZhjE0YYxPG2IQxNmGMTRhjEwad8jkZvDZ8ykfPxzQOBy/C/AEKW2rf7SbDxQAAAABJRU5ErkJggg==\"></img></td>\n",
       "      <td id=\"T_952f0_row4_col5\" class=\"data row4 col5\" >0<br>(0.0%)</td>\n",
       "    </tr>\n",
       "    <tr>\n",
       "      <td id=\"T_952f0_row5_col0\" class=\"data row5 col0\" >6</td>\n",
       "      <td id=\"T_952f0_row5_col1\" class=\"data row5 col1\" ><strong>Topic</strong><br>[object]</td>\n",
       "      <td id=\"T_952f0_row5_col2\" class=\"data row5 col2\" >1. Linear Algebra<br>2. Fundamental Mathematics<br>3. Complex Numbers<br>4. Differentiation<br>5. Analytic Geometry<br>6. Statistics<br>7. Numerical Methods<br>8. Optimization<br>9. Real Functions of a single var<br>10. Integration<br>11. other</td>\n",
       "      <td id=\"T_952f0_row5_col3\" class=\"data row5 col3\" >5,726 (60.0%)<br>818 (8.6%)<br>592 (6.2%)<br>579 (6.1%)<br>358 (3.8%)<br>340 (3.6%)<br>310 (3.2%)<br>182 (1.9%)<br>164 (1.7%)<br>144 (1.5%)<br>333 (3.5%)</td>\n",
       "      <td id=\"T_952f0_row5_col4\" class=\"data row5 col4\" ><img src = \"data:image/png;base64, iVBORw0KGgoAAAANSUhEUgAAAJsAAAD+CAYAAAAtWHdlAAAAOXRFWHRTb2Z0d2FyZQBNYXRwbG90bGliIHZlcnNpb24zLjkuMiwgaHR0cHM6Ly9tYXRwbG90bGliLm9yZy8hTgPZAAAACXBIWXMAAA9hAAAPYQGoP6dpAAAEdElEQVR4nO3dQU4UaQCG4R9CGNk0ISQcwwNwiDnsHKIP4D0IoRfiuGEWIwQVtKGr3kqs59npqkJef1KV+qyjh4eHAYXjpS+A9RAbGbGRERsZsZERGxmxkREbGbGRORpjnI0xTpe+kJX5+vDwcL/0RdROLi8v/95sNhdLX8ia7Ha726Ojo3/WFtzJZrO5uL6+vj8/P/+y9MWswd3d3Yftdntxc3NzOsZYV2xjjHF+fv7l6urq89IXsyJnS1/AEtwgkBEbGbGRERsZsZERGxmxkREbGbGRERsZsZERGxmxkREbmZMx/n/HaukLWYs1/6xPdrvd7Xa7vRgrfcdqCbvd7naM8XXp66jZICxjlRuEI/9lFpX3nmyr/JfJYd61rlrrOojDvHldteZ1EId577rKnStv5qEuGbGRERsZsZERGxmxkREbGbGRERsZsZERGxmxkREbmTcPXtY82OAw7xq8rHWwwWG8Fk7G4IXMW042pxkH2XvwYuTCofYavBi5MIW3DF6MXDiIh7pkxEZGbGTERkZsZMRGRmxkxEZGbGTERkZsZMRGRmxk9hq8GLkwhb0HL0YuHMpr4WQMXsi4QSCz769Rv0I52F7rKssqpvDbdZVlFVPZd11lWcXB3CCQERsZsZERGxmxkREbGbGRERsZsZERGxmxkREbGbGR+e26yrKKqey1rrKsYgpeCydjXUXmVyeb04xJvTp4MXJhai8OXoxcmMOvBi9GLkzKQ10yYiMjNjJiIyM2MmIjIzYyYiMjNjJiIyM2MmIjIzYyLw5ejFyYw6uDFyMXpua1cDIGL2ScbGQMXsgYvJAxeCHjoS4ZsZERGxmxkREbGbGRERsZsZERGxmxkREbGbGRERsZsZGxriJjXUXGBoGMdRWZ1042pxqTe3FdZVnFHH5aV1lWMZfX1lWWVUzOQ10yYiMjNjJiIyM2MmIjIzYyYiMjNjJiIyM2MmIjIzYyPw1ejF2Yy4uDF2MX5uC1cDIGL2R+PNmcaMzmu8GLoQtzOn4cvFxfX99/i+6lwTIc7Gnw8u3Phi7MxkNdMmIjIzYyYiMjNjJiIyM2MmIjIzYyYiMjNjJiIyM2Mi9+4QXm8HzwYujCrLwWTsbghYwbBDJ+jZKxriJjXUXGuoqMGwQyYiMjNjJiIyM2MmIjIzYyYiMjNjJiIyM2MmIjIzYy1lVkrKvIeC2cjHUVmecnm1ONWT0NXoxdmNvxZrO5+Pjx4zB2YW7HY4xxdnb279IXwp/PQ10yYiMjNjJiIyM2MmIjIzYyYiMjNjJiIyM2MmIjIzYyx2OMcX9//9fSF8Kf73i3291++vTJ2IXZeS2cjMELmR+nfI+cckzuuy+8PDJ+YQ4nj194efzwxt3d3Yftdntxc3NzOsYQG5N5+sLL1dXV52d/70svTM5DXTJiIyM2MmIjIzYyYiMjNjJiIyM2MmIjIzYyYiMjNjI/feHF116Yy/MvvDy9VmT8why8Fk7G4IWMGwQyYiMjNjJiIyM2MmIjIzYyYiMjNjL/AVhnJwkik6XPAAAAAElFTkSuQmCC\"></img></td>\n",
       "      <td id=\"T_952f0_row5_col5\" class=\"data row5 col5\" >0<br>(0.0%)</td>\n",
       "    </tr>\n",
       "    <tr>\n",
       "      <td id=\"T_952f0_row6_col0\" class=\"data row6 col0\" >7</td>\n",
       "      <td id=\"T_952f0_row6_col1\" class=\"data row6 col1\" ><strong>Subtopic</strong><br>[object]</td>\n",
       "      <td id=\"T_952f0_row6_col2\" class=\"data row6 col2\" >1. Vector Spaces<br>2. Linear Transformations<br>3. Complex Numbers<br>4. Algebraic expressions, Equatio<br>5. Linear Systems<br>6. Analytic Geometry<br>7. Statistics<br>8. Elementary Geometry<br>9. Derivatives<br>10. Numerical Methods<br>11. other</td>\n",
       "      <td id=\"T_952f0_row6_col3\" class=\"data row6 col3\" >2,749 (28.8%)<br>2,127 (22.3%)<br>592 (6.2%)<br>496 (5.2%)<br>420 (4.4%)<br>358 (3.8%)<br>340 (3.6%)<br>322 (3.4%)<br>317 (3.3%)<br>310 (3.2%)<br>1,515 (15.9%)</td>\n",
       "      <td id=\"T_952f0_row6_col4\" class=\"data row6 col4\" ><img src = \"data:image/png;base64, iVBORw0KGgoAAAANSUhEUgAAAJsAAAD+CAYAAAAtWHdlAAAAOXRFWHRTb2Z0d2FyZQBNYXRwbG90bGliIHZlcnNpb24zLjkuMiwgaHR0cHM6Ly9tYXRwbG90bGliLm9yZy8hTgPZAAAACXBIWXMAAA9hAAAPYQGoP6dpAAAEFklEQVR4nO3cQW5aSQBF0aJlRZ0JyLLkxXgRvdheBLuxLDNIokzIoJVBy4BBLi7gnLOCP7gq9L/qsdhutwMKf136AfhziI2M2MiIjYzYyIiNjNjIiI2M2MgsxhhfxxhfLv0gJ/q53W6/X/ohOM3dw8PDP8vl8v7SD3KKzWbzslgs/hXcbblbLpf3T09P31er1Y9LP8wxXl9f/16v1/fPz89fxhhiuyF3Y4yxWq1+PD4+frv0w5zg66UfgNN5QSAjNjJiIyM2MmIjIzYyYiMjNjJiIyM2MmIjIzYyYiMjNjJ3Y/x3R+zSD3KsW3pW/u9us9m8rNfr+3FDd8Q2m83LGOPnpZ+D09ggkFn4yywq13ayObE+sataV1lNfW5Xs66ymvr8rm1ddTNvxJzOR10yYiMjNjJiIyM2MmIjIzYyYiMjNjJiIyM2MmIjIzYyVzN4uYZn4LyuavBiyPK5uRZOxuCFzCknm1OHDzl68GKMwkcdNXgxRmGGUwYvF39b5bb5qEtGbGTERkZsZMRGRmxkxEZGbGTERkZsZMRGRmxkxEbmqMGLMQozHD14MUbho1wLJ2PwQsYLApljfkb9fDLFu+sqqypmObiusqpipmPWVVZVTOEFgYzYyIiNjNjIiI2M2MiIjYzYyIiNjNjIiI2M2MiIjczBdZVVFTO9u66yqmIW18LJWFeRee9kc6oxzcHBi7ELM+0dvBi7MNt7gxdjF6bxUZeM2MiIjYzYyIiNjNjIiI2M2MiIjYzYyIiNjNjIiI3M3sGLsQuzHRy8GLswk2vhZAxeyBw62ZxqTLV38GLswmw7By/GLpzDocGLsQtT+ahLRmxkxEZGbGTERkZsZMRGRmxkxEZGbGTERkZsZMRGRmxkdq6rLKs4h73rKssqZrNBIGNdRcbJRsa6iox1FRnrKjI+6pIRGxmxkREbGbGRERsZsZERGxmxkREbGbGRERsZsZExeCFj8ELGtXAyBi9k9p1sTjWm2zl4MXbhHN4MXoxdOJd9gxdjF6bzUZeM2MiIjYzYyIiNjNjIiI2M2MiIjYzYyIiNjNjIiI3Mm8GLsQvnsnPwYuzCObgWTsbghYwXBDJ+RslYV5GxriJjXUXGCwIZsZERGxmxkREbGbGRERsZsZERGxmxkREbGbGRERsZ6yoy1lVkXAsnY11FxslGxuCFjMELGYMXMj7qkhEbGbGRERsZsZERGxmxkREbGbGRERsZsZERGxmxkTF4IWPwQsa1cDIGL2T2nWyzOSnZPXiZzYCGMXYMXmYzoOG3fYOX2Qxo8FGXjtjIiI2M2MiIjYzYyIiNjNjIiI2M2MiIjYzYyIiNzJvBy2wGNPy2c/AymwENY7gWTsjghYwXBDJiIyM2MmIjIzYyYiMjNjJiIyM2Mr8AmWtO4syuUdUAAAAASUVORK5CYII=\"></img></td>\n",
       "      <td id=\"T_952f0_row6_col5\" class=\"data row6 col5\" >0<br>(0.0%)</td>\n",
       "    </tr>\n",
       "    <tr>\n",
       "      <td id=\"T_952f0_row7_col0\" class=\"data row7 col0\" >8</td>\n",
       "      <td id=\"T_952f0_row7_col1\" class=\"data row7 col1\" ><strong>Keywords</strong><br>[object]</td>\n",
       "      <td id=\"T_952f0_row7_col2\" class=\"data row7 col2\" >1. Linear application,Linearity<br>2. Simplify expressions<br>3. Subspace,Linear combination,Sp<br>4. Linear independence,Span,Linea<br>5. Range,Kernel<br>6. Matrix of a linear transformat<br>7. Subspace,Span,Linear combinati<br>8. Basis,Dimension<br>9. Linear combination,Subspace,Sp<br>10. Basis<br>11. other</td>\n",
       "      <td id=\"T_952f0_row7_col3\" class=\"data row7 col3\" >443 (4.6%)<br>401 (4.2%)<br>401 (4.2%)<br>399 (4.2%)<br>344 (3.6%)<br>314 (3.3%)<br>216 (2.3%)<br>210 (2.2%)<br>198 (2.1%)<br>186 (1.9%)<br>6,434 (67.4%)</td>\n",
       "      <td id=\"T_952f0_row7_col4\" class=\"data row7 col4\" ><img src = \"data:image/png;base64, iVBORw0KGgoAAAANSUhEUgAAAJsAAAD+CAYAAAAtWHdlAAAAOXRFWHRTb2Z0d2FyZQBNYXRwbG90bGliIHZlcnNpb24zLjkuMiwgaHR0cHM6Ly9tYXRwbG90bGliLm9yZy8hTgPZAAAACXBIWXMAAA9hAAAPYQGoP6dpAAAECUlEQVR4nO3dQWobWQBF0a8gTDKRMAYtRovoxfYitBthpEEcMlEPkjS2Vc7Eqht39TmzuCaCXEpU8Z+9ulwuAwqf/vQH4P9DbGTERkZsZMRGRmxkxEZGbGTERmY1xvgyxrh74/r3y+XyFH4eFmz98PDw12azuZ+6eD6fH1er1d+C4xbWm83mfr/fP22322/PL5xOp8+Hw+H+eDzejTHExrutxxhju91+2+12Xyeuf4k/DwvmAYGM2MiIjYzYyIiNjNjIiI2M2MiIjYzYyIiNjNjIiI2M2Misx/hxdu31hamfwXusz+fz4+FwuB8TZ9fO5/PjGON7/7FYIhsEMiu/MouKOxsZ6yoy1lVkrKvIeKlLRmxkxEZGbGTERkZsZMRGRmxkxEZGbGTERkZsZMRGxuCFjMELGcfCyRi8kHFnI2PwQsbghYzBCxkvdcmIjYzYyIiNjNjIiI2M2MiIjYzYyIiNjNjIiI2M2MgYvJAxeCHjWDgZgxcyHhDI/O5r1FcoN/XmusqyilubXFdZVjGH362rLKu4KQ8IZMRGRmxkxEZGbGTERkZsZMRGRmxkxEZGbGTERkZsZCbXVZZVzOHNdZVlFbfmWDgZ6yoy7mxkDF7IGLyQMXgh46UuGbGRERsZsZERGxmxkREbGbGRERsZsZERGxmxkREbGYMXMgYvZBwLJ2PwQuatO5u7Gjc3OXgxdmEOV4MXYxfm8tbgxdiFm/NSl4zYyIiNjNjIiI2M2MiIjYzYyIiNjNjIiI2M2MiIjYzYyFytqyyrmMvkusqyijnYIJCxriIzdWdzV2MWV+sqyyrm8mJdZVnFnKbWVZZVzMJLXTJiIyM2MmIjIzYyYiMjNjJiIyM2MmIjIzYyYiMjNjIvBi/GLszpavBi7MJcHAsnY/BC5vWdzV2N2bwYvBi7MKdPvwYv+/3+6Wd0U38OEt7t38HLz38buzAbL3XJiI2M2MiIjYzYyIiNjNjIiI2M2MiIjYzYyIiNjNjIXP2FF5jL88GLsQuzciycjMELGQ8IZHyNkrGuImNdRca6iowHBDJiIyM2MmIjIzYyYiMjNjJiIyM2MmIjIzYyYiMjNjLWVWSsq8g4Fk7GuoqMOxsZgxcyBi9kDF7IeKlLRmxkxEZGbGTERkZsZMRGRmxkxEZGbGTERkZsZMRGxuCFjMELGcfCyRi8kHl9Z+PjWcy3zYvBCx/PkkZI61+Dl2c7BD6I0+n0+XA43B+Px7sxxn8/tjF+DF52u93XP/1hmLSYEZKXumTERkZsZMRGRmxkxEZGbGTERkZsZMRGRmxkxEZGbGQMXj6wpf2/PB+8LOYoy5IsaYTkWPjHt5hj4QYvZDwgkBEbGbGRERsZsZERGxmxkREbGbGR+Qf1DynFaM6ijgAAAABJRU5ErkJggg==\"></img></td>\n",
       "      <td id=\"T_952f0_row7_col5\" class=\"data row7 col5\" >0<br>(0.0%)</td>\n",
       "    </tr>\n",
       "  </tbody>\n",
       "</table>\n"
      ],
      "text/plain": [
       "<pandas.io.formats.style.Styler at 0x15f299580>"
      ]
     },
     "execution_count": 112,
     "metadata": {},
     "output_type": "execute_result"
    }
   ],
   "source": [
    "dfSummary(df, is_collapsible=False)"
   ]
  },
  {
   "cell_type": "markdown",
   "metadata": {},
   "source": [
    "### Feature Engineering"
   ]
  },
  {
   "cell_type": "markdown",
   "metadata": {},
   "source": [
    "### Check for Class Imbalance"
   ]
  },
  {
   "cell_type": "code",
   "execution_count": 113,
   "metadata": {},
   "outputs": [
    {
     "data": {
      "application/vnd.plotly.v1+json": {
       "config": {
        "plotlyServerURL": "https://plot.ly"
       },
       "data": [
        {
         "alignmentgroup": "True",
         "hovertemplate": "Class Label=%{marker.color}<br>Frequency=%{text}<extra></extra>",
         "legendgroup": "",
         "marker": {
          "color": [
           0,
           1
          ],
          "coloraxis": "coloraxis",
          "pattern": {
           "shape": ""
          }
         },
         "name": "",
         "offsetgroup": "",
         "orientation": "v",
         "showlegend": false,
         "text": [
          5076,
          4470
         ],
         "textposition": "outside",
         "texttemplate": "%{text}",
         "type": "bar",
         "x": [
          0,
          1
         ],
         "xaxis": "x",
         "y": [
          5076,
          4470
         ],
         "yaxis": "y"
        }
       ],
       "layout": {
        "barmode": "relative",
        "coloraxis": {
         "colorbar": {
          "title": {
           "text": "Class Label"
          }
         },
         "colorscale": [
          [
           0,
           "#0d0887"
          ],
          [
           0.1111111111111111,
           "#46039f"
          ],
          [
           0.2222222222222222,
           "#7201a8"
          ],
          [
           0.3333333333333333,
           "#9c179e"
          ],
          [
           0.4444444444444444,
           "#bd3786"
          ],
          [
           0.5555555555555556,
           "#d8576b"
          ],
          [
           0.6666666666666666,
           "#ed7953"
          ],
          [
           0.7777777777777778,
           "#fb9f3a"
          ],
          [
           0.8888888888888888,
           "#fdca26"
          ],
          [
           1,
           "#f0f921"
          ]
         ]
        },
        "height": 400,
        "legend": {
         "tracegroupgap": 0
        },
        "template": {
         "data": {
          "bar": [
           {
            "error_x": {
             "color": "#2a3f5f"
            },
            "error_y": {
             "color": "#2a3f5f"
            },
            "marker": {
             "line": {
              "color": "#E5ECF6",
              "width": 0.5
             },
             "pattern": {
              "fillmode": "overlay",
              "size": 10,
              "solidity": 0.2
             }
            },
            "type": "bar"
           }
          ],
          "barpolar": [
           {
            "marker": {
             "line": {
              "color": "#E5ECF6",
              "width": 0.5
             },
             "pattern": {
              "fillmode": "overlay",
              "size": 10,
              "solidity": 0.2
             }
            },
            "type": "barpolar"
           }
          ],
          "carpet": [
           {
            "aaxis": {
             "endlinecolor": "#2a3f5f",
             "gridcolor": "white",
             "linecolor": "white",
             "minorgridcolor": "white",
             "startlinecolor": "#2a3f5f"
            },
            "baxis": {
             "endlinecolor": "#2a3f5f",
             "gridcolor": "white",
             "linecolor": "white",
             "minorgridcolor": "white",
             "startlinecolor": "#2a3f5f"
            },
            "type": "carpet"
           }
          ],
          "choropleth": [
           {
            "colorbar": {
             "outlinewidth": 0,
             "ticks": ""
            },
            "type": "choropleth"
           }
          ],
          "contour": [
           {
            "colorbar": {
             "outlinewidth": 0,
             "ticks": ""
            },
            "colorscale": [
             [
              0,
              "#0d0887"
             ],
             [
              0.1111111111111111,
              "#46039f"
             ],
             [
              0.2222222222222222,
              "#7201a8"
             ],
             [
              0.3333333333333333,
              "#9c179e"
             ],
             [
              0.4444444444444444,
              "#bd3786"
             ],
             [
              0.5555555555555556,
              "#d8576b"
             ],
             [
              0.6666666666666666,
              "#ed7953"
             ],
             [
              0.7777777777777778,
              "#fb9f3a"
             ],
             [
              0.8888888888888888,
              "#fdca26"
             ],
             [
              1,
              "#f0f921"
             ]
            ],
            "type": "contour"
           }
          ],
          "contourcarpet": [
           {
            "colorbar": {
             "outlinewidth": 0,
             "ticks": ""
            },
            "type": "contourcarpet"
           }
          ],
          "heatmap": [
           {
            "colorbar": {
             "outlinewidth": 0,
             "ticks": ""
            },
            "colorscale": [
             [
              0,
              "#0d0887"
             ],
             [
              0.1111111111111111,
              "#46039f"
             ],
             [
              0.2222222222222222,
              "#7201a8"
             ],
             [
              0.3333333333333333,
              "#9c179e"
             ],
             [
              0.4444444444444444,
              "#bd3786"
             ],
             [
              0.5555555555555556,
              "#d8576b"
             ],
             [
              0.6666666666666666,
              "#ed7953"
             ],
             [
              0.7777777777777778,
              "#fb9f3a"
             ],
             [
              0.8888888888888888,
              "#fdca26"
             ],
             [
              1,
              "#f0f921"
             ]
            ],
            "type": "heatmap"
           }
          ],
          "heatmapgl": [
           {
            "colorbar": {
             "outlinewidth": 0,
             "ticks": ""
            },
            "colorscale": [
             [
              0,
              "#0d0887"
             ],
             [
              0.1111111111111111,
              "#46039f"
             ],
             [
              0.2222222222222222,
              "#7201a8"
             ],
             [
              0.3333333333333333,
              "#9c179e"
             ],
             [
              0.4444444444444444,
              "#bd3786"
             ],
             [
              0.5555555555555556,
              "#d8576b"
             ],
             [
              0.6666666666666666,
              "#ed7953"
             ],
             [
              0.7777777777777778,
              "#fb9f3a"
             ],
             [
              0.8888888888888888,
              "#fdca26"
             ],
             [
              1,
              "#f0f921"
             ]
            ],
            "type": "heatmapgl"
           }
          ],
          "histogram": [
           {
            "marker": {
             "pattern": {
              "fillmode": "overlay",
              "size": 10,
              "solidity": 0.2
             }
            },
            "type": "histogram"
           }
          ],
          "histogram2d": [
           {
            "colorbar": {
             "outlinewidth": 0,
             "ticks": ""
            },
            "colorscale": [
             [
              0,
              "#0d0887"
             ],
             [
              0.1111111111111111,
              "#46039f"
             ],
             [
              0.2222222222222222,
              "#7201a8"
             ],
             [
              0.3333333333333333,
              "#9c179e"
             ],
             [
              0.4444444444444444,
              "#bd3786"
             ],
             [
              0.5555555555555556,
              "#d8576b"
             ],
             [
              0.6666666666666666,
              "#ed7953"
             ],
             [
              0.7777777777777778,
              "#fb9f3a"
             ],
             [
              0.8888888888888888,
              "#fdca26"
             ],
             [
              1,
              "#f0f921"
             ]
            ],
            "type": "histogram2d"
           }
          ],
          "histogram2dcontour": [
           {
            "colorbar": {
             "outlinewidth": 0,
             "ticks": ""
            },
            "colorscale": [
             [
              0,
              "#0d0887"
             ],
             [
              0.1111111111111111,
              "#46039f"
             ],
             [
              0.2222222222222222,
              "#7201a8"
             ],
             [
              0.3333333333333333,
              "#9c179e"
             ],
             [
              0.4444444444444444,
              "#bd3786"
             ],
             [
              0.5555555555555556,
              "#d8576b"
             ],
             [
              0.6666666666666666,
              "#ed7953"
             ],
             [
              0.7777777777777778,
              "#fb9f3a"
             ],
             [
              0.8888888888888888,
              "#fdca26"
             ],
             [
              1,
              "#f0f921"
             ]
            ],
            "type": "histogram2dcontour"
           }
          ],
          "mesh3d": [
           {
            "colorbar": {
             "outlinewidth": 0,
             "ticks": ""
            },
            "type": "mesh3d"
           }
          ],
          "parcoords": [
           {
            "line": {
             "colorbar": {
              "outlinewidth": 0,
              "ticks": ""
             }
            },
            "type": "parcoords"
           }
          ],
          "pie": [
           {
            "automargin": true,
            "type": "pie"
           }
          ],
          "scatter": [
           {
            "fillpattern": {
             "fillmode": "overlay",
             "size": 10,
             "solidity": 0.2
            },
            "type": "scatter"
           }
          ],
          "scatter3d": [
           {
            "line": {
             "colorbar": {
              "outlinewidth": 0,
              "ticks": ""
             }
            },
            "marker": {
             "colorbar": {
              "outlinewidth": 0,
              "ticks": ""
             }
            },
            "type": "scatter3d"
           }
          ],
          "scattercarpet": [
           {
            "marker": {
             "colorbar": {
              "outlinewidth": 0,
              "ticks": ""
             }
            },
            "type": "scattercarpet"
           }
          ],
          "scattergeo": [
           {
            "marker": {
             "colorbar": {
              "outlinewidth": 0,
              "ticks": ""
             }
            },
            "type": "scattergeo"
           }
          ],
          "scattergl": [
           {
            "marker": {
             "colorbar": {
              "outlinewidth": 0,
              "ticks": ""
             }
            },
            "type": "scattergl"
           }
          ],
          "scattermapbox": [
           {
            "marker": {
             "colorbar": {
              "outlinewidth": 0,
              "ticks": ""
             }
            },
            "type": "scattermapbox"
           }
          ],
          "scatterpolar": [
           {
            "marker": {
             "colorbar": {
              "outlinewidth": 0,
              "ticks": ""
             }
            },
            "type": "scatterpolar"
           }
          ],
          "scatterpolargl": [
           {
            "marker": {
             "colorbar": {
              "outlinewidth": 0,
              "ticks": ""
             }
            },
            "type": "scatterpolargl"
           }
          ],
          "scatterternary": [
           {
            "marker": {
             "colorbar": {
              "outlinewidth": 0,
              "ticks": ""
             }
            },
            "type": "scatterternary"
           }
          ],
          "surface": [
           {
            "colorbar": {
             "outlinewidth": 0,
             "ticks": ""
            },
            "colorscale": [
             [
              0,
              "#0d0887"
             ],
             [
              0.1111111111111111,
              "#46039f"
             ],
             [
              0.2222222222222222,
              "#7201a8"
             ],
             [
              0.3333333333333333,
              "#9c179e"
             ],
             [
              0.4444444444444444,
              "#bd3786"
             ],
             [
              0.5555555555555556,
              "#d8576b"
             ],
             [
              0.6666666666666666,
              "#ed7953"
             ],
             [
              0.7777777777777778,
              "#fb9f3a"
             ],
             [
              0.8888888888888888,
              "#fdca26"
             ],
             [
              1,
              "#f0f921"
             ]
            ],
            "type": "surface"
           }
          ],
          "table": [
           {
            "cells": {
             "fill": {
              "color": "#EBF0F8"
             },
             "line": {
              "color": "white"
             }
            },
            "header": {
             "fill": {
              "color": "#C8D4E3"
             },
             "line": {
              "color": "white"
             }
            },
            "type": "table"
           }
          ]
         },
         "layout": {
          "annotationdefaults": {
           "arrowcolor": "#2a3f5f",
           "arrowhead": 0,
           "arrowwidth": 1
          },
          "autotypenumbers": "strict",
          "coloraxis": {
           "colorbar": {
            "outlinewidth": 0,
            "ticks": ""
           }
          },
          "colorscale": {
           "diverging": [
            [
             0,
             "#8e0152"
            ],
            [
             0.1,
             "#c51b7d"
            ],
            [
             0.2,
             "#de77ae"
            ],
            [
             0.3,
             "#f1b6da"
            ],
            [
             0.4,
             "#fde0ef"
            ],
            [
             0.5,
             "#f7f7f7"
            ],
            [
             0.6,
             "#e6f5d0"
            ],
            [
             0.7,
             "#b8e186"
            ],
            [
             0.8,
             "#7fbc41"
            ],
            [
             0.9,
             "#4d9221"
            ],
            [
             1,
             "#276419"
            ]
           ],
           "sequential": [
            [
             0,
             "#0d0887"
            ],
            [
             0.1111111111111111,
             "#46039f"
            ],
            [
             0.2222222222222222,
             "#7201a8"
            ],
            [
             0.3333333333333333,
             "#9c179e"
            ],
            [
             0.4444444444444444,
             "#bd3786"
            ],
            [
             0.5555555555555556,
             "#d8576b"
            ],
            [
             0.6666666666666666,
             "#ed7953"
            ],
            [
             0.7777777777777778,
             "#fb9f3a"
            ],
            [
             0.8888888888888888,
             "#fdca26"
            ],
            [
             1,
             "#f0f921"
            ]
           ],
           "sequentialminus": [
            [
             0,
             "#0d0887"
            ],
            [
             0.1111111111111111,
             "#46039f"
            ],
            [
             0.2222222222222222,
             "#7201a8"
            ],
            [
             0.3333333333333333,
             "#9c179e"
            ],
            [
             0.4444444444444444,
             "#bd3786"
            ],
            [
             0.5555555555555556,
             "#d8576b"
            ],
            [
             0.6666666666666666,
             "#ed7953"
            ],
            [
             0.7777777777777778,
             "#fb9f3a"
            ],
            [
             0.8888888888888888,
             "#fdca26"
            ],
            [
             1,
             "#f0f921"
            ]
           ]
          },
          "colorway": [
           "#636efa",
           "#EF553B",
           "#00cc96",
           "#ab63fa",
           "#FFA15A",
           "#19d3f3",
           "#FF6692",
           "#B6E880",
           "#FF97FF",
           "#FECB52"
          ],
          "font": {
           "color": "#2a3f5f"
          },
          "geo": {
           "bgcolor": "white",
           "lakecolor": "white",
           "landcolor": "#E5ECF6",
           "showlakes": true,
           "showland": true,
           "subunitcolor": "white"
          },
          "hoverlabel": {
           "align": "left"
          },
          "hovermode": "closest",
          "mapbox": {
           "style": "light"
          },
          "paper_bgcolor": "white",
          "plot_bgcolor": "#E5ECF6",
          "polar": {
           "angularaxis": {
            "gridcolor": "white",
            "linecolor": "white",
            "ticks": ""
           },
           "bgcolor": "#E5ECF6",
           "radialaxis": {
            "gridcolor": "white",
            "linecolor": "white",
            "ticks": ""
           }
          },
          "scene": {
           "xaxis": {
            "backgroundcolor": "#E5ECF6",
            "gridcolor": "white",
            "gridwidth": 2,
            "linecolor": "white",
            "showbackground": true,
            "ticks": "",
            "zerolinecolor": "white"
           },
           "yaxis": {
            "backgroundcolor": "#E5ECF6",
            "gridcolor": "white",
            "gridwidth": 2,
            "linecolor": "white",
            "showbackground": true,
            "ticks": "",
            "zerolinecolor": "white"
           },
           "zaxis": {
            "backgroundcolor": "#E5ECF6",
            "gridcolor": "white",
            "gridwidth": 2,
            "linecolor": "white",
            "showbackground": true,
            "ticks": "",
            "zerolinecolor": "white"
           }
          },
          "shapedefaults": {
           "line": {
            "color": "#2a3f5f"
           }
          },
          "ternary": {
           "aaxis": {
            "gridcolor": "white",
            "linecolor": "white",
            "ticks": ""
           },
           "baxis": {
            "gridcolor": "white",
            "linecolor": "white",
            "ticks": ""
           },
           "bgcolor": "#E5ECF6",
           "caxis": {
            "gridcolor": "white",
            "linecolor": "white",
            "ticks": ""
           }
          },
          "title": {
           "x": 0.05
          },
          "xaxis": {
           "automargin": true,
           "gridcolor": "white",
           "linecolor": "white",
           "ticks": "",
           "title": {
            "standoff": 15
           },
           "zerolinecolor": "white",
           "zerolinewidth": 2
          },
          "yaxis": {
           "automargin": true,
           "gridcolor": "white",
           "linecolor": "white",
           "ticks": "",
           "title": {
            "standoff": 15
           },
           "zerolinecolor": "white",
           "zerolinewidth": 2
          }
         }
        },
        "title": {
         "text": "Label Class Distribution"
        },
        "width": 600,
        "xaxis": {
         "anchor": "y",
         "domain": [
          0,
          1
         ],
         "tickmode": "array",
         "tickvals": [
          0,
          1
         ],
         "title": {
          "text": "Class Label"
         }
        },
        "yaxis": {
         "anchor": "x",
         "domain": [
          0,
          1
         ],
         "title": {
          "text": "Frequency"
         }
        }
       }
      }
     },
     "metadata": {},
     "output_type": "display_data"
    }
   ],
   "source": [
    "label_counts = df['Type of Answer'].value_counts().reset_index()\n",
    "label_counts.columns = ['Class', 'Count']\n",
    "\n",
    "fig = px.bar(\n",
    "    label_counts,\n",
    "    x='Class',\n",
    "    y='Count',\n",
    "    color='Class',\n",
    "    text='Count',\n",
    "    title='Label Class Distribution',\n",
    "    labels={'Class': 'Class Label', 'Count': 'Frequency'}\n",
    ")\n",
    "\n",
    "fig.update_traces(texttemplate='%{text}', textposition='outside')\n",
    "fig.update_layout(\n",
    "    xaxis=dict(\n",
    "        tickmode='array',\n",
    "        tickvals=[0, 1],\n",
    "        title=\"Class Label\"\n",
    "    ),\n",
    "    yaxis_title=\"Frequency\",\n",
    "    width=600,\n",
    "    height=400\n",
    ")\n",
    "fig.show()"
   ]
  },
  {
   "cell_type": "markdown",
   "metadata": {},
   "source": [
    "Class is widely not imbalnced hence we will not use any sampling techniques like SMOTE etc."
   ]
  },
  {
   "cell_type": "code",
   "execution_count": 114,
   "metadata": {},
   "outputs": [],
   "source": [
    "\"\"\"\n",
    "We drop the Question ID and Student ID columns since they don't influence or add value to our models\n",
    "\"\"\"\n",
    "ml_data = df.drop(['Student ID', 'Question ID'],axis=1)"
   ]
  },
  {
   "cell_type": "markdown",
   "metadata": {},
   "source": [
    "#### Split Data into Train Test"
   ]
  },
  {
   "cell_type": "code",
   "execution_count": 115,
   "metadata": {},
   "outputs": [],
   "source": [
    "X = ml_data .drop(['Type of Answer'], axis = 1, inplace = False)\n",
    "y = ml_data ['Type of Answer']\n",
    "\n",
    "X_train, X_eval, y_train, y_eval = train_test_split(X, y, \n",
    "                                                  test_size = 0.2, \n",
    "                                                  random_state = 0)"
   ]
  },
  {
   "cell_type": "markdown",
   "metadata": {},
   "source": [
    "#### Feature Enconding"
   ]
  },
  {
   "cell_type": "code",
   "execution_count": 116,
   "metadata": {},
   "outputs": [],
   "source": [
    "# segregate categorical columns from numerical columns.\n",
    "categorical_features = X.select_dtypes(include=\"object\").columns\n",
    "integer_features = X.select_dtypes(exclude=\"object\").columns\n",
    "\n",
    "\n",
    "# define the transformer for numeric columns\n",
    "numeric_transformer = Pipeline(steps=[('scaler', StandardScaler())])\n",
    "\n",
    "# Add a step to convert sparse to dense\n",
    "def convert_to_dense(x):\n",
    "    if hasattr(x, \"toarray\"):\n",
    "        return x.toarray()\n",
    "    return x\n",
    "\n",
    "dense_transformer = FunctionTransformer(convert_to_dense)\n",
    "\n",
    "# define the transformer for categorical columns\n",
    "categorical_transformer = Pipeline(steps=[\n",
    "        ('onehot', OneHotEncoder(drop=\"first\", handle_unknown='ignore'))\n",
    "        ])\n",
    "\n",
    "\n",
    "features_preprocessor = ColumnTransformer(\n",
    "    transformers=[\n",
    "     ('numeric',      numeric_transformer,     integer_features),\n",
    "     ('categorical', categorical_transformer, categorical_features),\n",
    "    ])\n"
   ]
  },
  {
   "cell_type": "markdown",
   "metadata": {},
   "source": [
    "####  Train Baseline Models"
   ]
  },
  {
   "cell_type": "code",
   "execution_count": 117,
   "metadata": {},
   "outputs": [],
   "source": [
    "# List of models/classifiers\n",
    "classifiers = [    \n",
    "    LogisticRegression(),\n",
    "    KNeighborsClassifier(),\n",
    "    SVC(),\n",
    "    DecisionTreeClassifier(),\n",
    "    GaussianNB(),\n",
    "]\n",
    "\n",
    "results = []\n",
    "\n",
    "\n",
    "for classifier in classifiers:\n",
    "    pipe = Pipeline(steps=[\n",
    "        ('preprocessor', features_preprocessor),  \n",
    "        ('to_dense', dense_transformer),         \n",
    "        ('classifier', classifier)              \n",
    "    ])\n",
    "    pipe.fit(X_train, y_train)  \n",
    "    y_pred = pipe.predict(X_eval)  \n",
    "\n",
    "    \n",
    "    results.append({\n",
    "        'Classifier': classifier.__class__.__name__,\n",
    "        'Accuracy': accuracy_score(y_eval, y_pred),\n",
    "        'Precision': precision_score(y_eval, y_pred, average='binary'),\n",
    "        'Recall': recall_score(y_eval, y_pred, average='binary'),\n",
    "        'F1_Score': f1_score(y_eval, y_pred, average='binary'),\n",
    "    })"
   ]
  },
  {
   "cell_type": "code",
   "execution_count": 118,
   "metadata": {},
   "outputs": [
    {
     "data": {
      "text/html": [
       "<div>\n",
       "<style scoped>\n",
       "    .dataframe tbody tr th:only-of-type {\n",
       "        vertical-align: middle;\n",
       "    }\n",
       "\n",
       "    .dataframe tbody tr th {\n",
       "        vertical-align: top;\n",
       "    }\n",
       "\n",
       "    .dataframe thead th {\n",
       "        text-align: right;\n",
       "    }\n",
       "</style>\n",
       "<table border=\"1\" class=\"dataframe\">\n",
       "  <thead>\n",
       "    <tr style=\"text-align: right;\">\n",
       "      <th></th>\n",
       "      <th>Classifier</th>\n",
       "      <th>Accuracy</th>\n",
       "      <th>Precision</th>\n",
       "      <th>Recall</th>\n",
       "      <th>F1_Score</th>\n",
       "    </tr>\n",
       "  </thead>\n",
       "  <tbody>\n",
       "    <tr>\n",
       "      <th>0</th>\n",
       "      <td>LogisticRegression</td>\n",
       "      <td>0.575393</td>\n",
       "      <td>0.578073</td>\n",
       "      <td>0.384530</td>\n",
       "      <td>0.461845</td>\n",
       "    </tr>\n",
       "    <tr>\n",
       "      <th>1</th>\n",
       "      <td>KNeighborsClassifier</td>\n",
       "      <td>0.550262</td>\n",
       "      <td>0.529487</td>\n",
       "      <td>0.456354</td>\n",
       "      <td>0.490208</td>\n",
       "    </tr>\n",
       "    <tr>\n",
       "      <th>2</th>\n",
       "      <td>SVC</td>\n",
       "      <td>0.576963</td>\n",
       "      <td>0.582624</td>\n",
       "      <td>0.377901</td>\n",
       "      <td>0.458445</td>\n",
       "    </tr>\n",
       "    <tr>\n",
       "      <th>3</th>\n",
       "      <td>DecisionTreeClassifier</td>\n",
       "      <td>0.574869</td>\n",
       "      <td>0.569507</td>\n",
       "      <td>0.420994</td>\n",
       "      <td>0.484117</td>\n",
       "    </tr>\n",
       "    <tr>\n",
       "      <th>4</th>\n",
       "      <td>GaussianNB</td>\n",
       "      <td>0.533508</td>\n",
       "      <td>0.504965</td>\n",
       "      <td>0.786740</td>\n",
       "      <td>0.615119</td>\n",
       "    </tr>\n",
       "  </tbody>\n",
       "</table>\n",
       "</div>"
      ],
      "text/plain": [
       "               Classifier  Accuracy  Precision    Recall  F1_Score\n",
       "0      LogisticRegression  0.575393   0.578073  0.384530  0.461845\n",
       "1    KNeighborsClassifier  0.550262   0.529487  0.456354  0.490208\n",
       "2                     SVC  0.576963   0.582624  0.377901  0.458445\n",
       "3  DecisionTreeClassifier  0.574869   0.569507  0.420994  0.484117\n",
       "4              GaussianNB  0.533508   0.504965  0.786740  0.615119"
      ]
     },
     "execution_count": 118,
     "metadata": {},
     "output_type": "execute_result"
    }
   ],
   "source": [
    "df_results = pd.DataFrame(results)\n",
    "df_results"
   ]
  },
  {
   "cell_type": "markdown",
   "metadata": {},
   "source": [
    "#### Train on other Ensemble Models"
   ]
  },
  {
   "cell_type": "code",
   "execution_count": 119,
   "metadata": {},
   "outputs": [],
   "source": [
    "classifiers_ensemble = [    \n",
    "     RandomForestClassifier(),\n",
    "     ExtraTreesClassifier(),\n",
    "     AdaBoostClassifier(),\n",
    "     GradientBoostingClassifier(),\n",
    "     xgb.XGBClassifier() \n",
    "]\n",
    "\n",
    "results1 = []\n",
    "\n",
    "\n",
    "for classifier in classifiers_ensemble:\n",
    "    pipe = Pipeline(steps=[\n",
    "        ('preprocessor', features_preprocessor),  \n",
    "        ('to_dense', dense_transformer),         \n",
    "        ('classifier', classifier)              \n",
    "    ])\n",
    "    pipe.fit(X_train, y_train)  \n",
    "    y_pred = pipe.predict(X_eval)  \n",
    "\n",
    "    \n",
    "    results1.append({\n",
    "        'Classifier': classifier.__class__.__name__,\n",
    "        'Accuracy': accuracy_score(y_eval, y_pred),\n",
    "        'Precision': precision_score(y_eval, y_pred, average='binary'),\n",
    "        'Recall': recall_score(y_eval, y_pred, average='binary'),\n",
    "        'F1_Score': f1_score(y_eval, y_pred, average='binary'),\n",
    "    })"
   ]
  },
  {
   "cell_type": "code",
   "execution_count": 120,
   "metadata": {},
   "outputs": [
    {
     "data": {
      "text/html": [
       "<div>\n",
       "<style scoped>\n",
       "    .dataframe tbody tr th:only-of-type {\n",
       "        vertical-align: middle;\n",
       "    }\n",
       "\n",
       "    .dataframe tbody tr th {\n",
       "        vertical-align: top;\n",
       "    }\n",
       "\n",
       "    .dataframe thead th {\n",
       "        text-align: right;\n",
       "    }\n",
       "</style>\n",
       "<table border=\"1\" class=\"dataframe\">\n",
       "  <thead>\n",
       "    <tr style=\"text-align: right;\">\n",
       "      <th></th>\n",
       "      <th>Classifier</th>\n",
       "      <th>Accuracy</th>\n",
       "      <th>Precision</th>\n",
       "      <th>Recall</th>\n",
       "      <th>F1_Score</th>\n",
       "    </tr>\n",
       "  </thead>\n",
       "  <tbody>\n",
       "    <tr>\n",
       "      <th>0</th>\n",
       "      <td>RandomForestClassifier</td>\n",
       "      <td>0.571728</td>\n",
       "      <td>0.557616</td>\n",
       "      <td>0.465193</td>\n",
       "      <td>0.507229</td>\n",
       "    </tr>\n",
       "    <tr>\n",
       "      <th>1</th>\n",
       "      <td>ExtraTreesClassifier</td>\n",
       "      <td>0.574869</td>\n",
       "      <td>0.568082</td>\n",
       "      <td>0.428729</td>\n",
       "      <td>0.488665</td>\n",
       "    </tr>\n",
       "    <tr>\n",
       "      <th>2</th>\n",
       "      <td>AdaBoostClassifier</td>\n",
       "      <td>0.573822</td>\n",
       "      <td>0.592292</td>\n",
       "      <td>0.322652</td>\n",
       "      <td>0.417740</td>\n",
       "    </tr>\n",
       "    <tr>\n",
       "      <th>3</th>\n",
       "      <td>GradientBoostingClassifier</td>\n",
       "      <td>0.567016</td>\n",
       "      <td>0.599490</td>\n",
       "      <td>0.259669</td>\n",
       "      <td>0.362375</td>\n",
       "    </tr>\n",
       "    <tr>\n",
       "      <th>4</th>\n",
       "      <td>XGBClassifier</td>\n",
       "      <td>0.580628</td>\n",
       "      <td>0.594545</td>\n",
       "      <td>0.361326</td>\n",
       "      <td>0.449485</td>\n",
       "    </tr>\n",
       "  </tbody>\n",
       "</table>\n",
       "</div>"
      ],
      "text/plain": [
       "                   Classifier  Accuracy  Precision    Recall  F1_Score\n",
       "0      RandomForestClassifier  0.571728   0.557616  0.465193  0.507229\n",
       "1        ExtraTreesClassifier  0.574869   0.568082  0.428729  0.488665\n",
       "2          AdaBoostClassifier  0.573822   0.592292  0.322652  0.417740\n",
       "3  GradientBoostingClassifier  0.567016   0.599490  0.259669  0.362375\n",
       "4               XGBClassifier  0.580628   0.594545  0.361326  0.449485"
      ]
     },
     "execution_count": 120,
     "metadata": {},
     "output_type": "execute_result"
    }
   ],
   "source": [
    "df_results1 = pd.DataFrame(results1)\n",
    "df_results1"
   ]
  },
  {
   "cell_type": "markdown",
   "metadata": {},
   "source": [
    "From the initial training we found GaussianNB model to perform better. Hence we will perform parameter tuning to see if it could be improved further."
   ]
  },
  {
   "cell_type": "markdown",
   "metadata": {},
   "source": [
    "#### Perform Hyper-Parameter Tuning"
   ]
  },
  {
   "cell_type": "code",
   "execution_count": 121,
   "metadata": {},
   "outputs": [
    {
     "name": "stdout",
     "output_type": "stream",
     "text": [
      "Fitting 10 folds for each of 9 candidates, totalling 90 fits\n"
     ]
    },
    {
     "name": "stderr",
     "output_type": "stream",
     "text": [
      "/Users/humphreyborketey/Documents/fall2024/CS6010/cs6010_fa2024_project_g10/env/lib/python3.12/site-packages/sklearn/preprocessing/_encoders.py:242: UserWarning: Found unknown categories in columns [4] during transform. These unknown categories will be encoded as all zeros\n",
      "  warnings.warn(\n",
      "/Users/humphreyborketey/Documents/fall2024/CS6010/cs6010_fa2024_project_g10/env/lib/python3.12/site-packages/sklearn/preprocessing/_encoders.py:242: UserWarning: Found unknown categories in columns [4] during transform. These unknown categories will be encoded as all zeros\n",
      "  warnings.warn(\n",
      "/Users/humphreyborketey/Documents/fall2024/CS6010/cs6010_fa2024_project_g10/env/lib/python3.12/site-packages/sklearn/preprocessing/_encoders.py:242: UserWarning: Found unknown categories in columns [4] during transform. These unknown categories will be encoded as all zeros\n",
      "  warnings.warn(\n",
      "/Users/humphreyborketey/Documents/fall2024/CS6010/cs6010_fa2024_project_g10/env/lib/python3.12/site-packages/sklearn/preprocessing/_encoders.py:242: UserWarning: Found unknown categories in columns [4] during transform. These unknown categories will be encoded as all zeros\n",
      "  warnings.warn(\n",
      "/Users/humphreyborketey/Documents/fall2024/CS6010/cs6010_fa2024_project_g10/env/lib/python3.12/site-packages/sklearn/preprocessing/_encoders.py:242: UserWarning: Found unknown categories in columns [4] during transform. These unknown categories will be encoded as all zeros\n",
      "  warnings.warn(\n",
      "/Users/humphreyborketey/Documents/fall2024/CS6010/cs6010_fa2024_project_g10/env/lib/python3.12/site-packages/sklearn/preprocessing/_encoders.py:242: UserWarning: Found unknown categories in columns [4] during transform. These unknown categories will be encoded as all zeros\n",
      "  warnings.warn(\n",
      "/Users/humphreyborketey/Documents/fall2024/CS6010/cs6010_fa2024_project_g10/env/lib/python3.12/site-packages/sklearn/preprocessing/_encoders.py:242: UserWarning: Found unknown categories in columns [4] during transform. These unknown categories will be encoded as all zeros\n",
      "  warnings.warn(\n",
      "/Users/humphreyborketey/Documents/fall2024/CS6010/cs6010_fa2024_project_g10/env/lib/python3.12/site-packages/sklearn/preprocessing/_encoders.py:242: UserWarning: Found unknown categories in columns [4] during transform. These unknown categories will be encoded as all zeros\n",
      "  warnings.warn(\n",
      "/Users/humphreyborketey/Documents/fall2024/CS6010/cs6010_fa2024_project_g10/env/lib/python3.12/site-packages/sklearn/preprocessing/_encoders.py:242: UserWarning: Found unknown categories in columns [4] during transform. These unknown categories will be encoded as all zeros\n",
      "  warnings.warn(\n",
      "/Users/humphreyborketey/Documents/fall2024/CS6010/cs6010_fa2024_project_g10/env/lib/python3.12/site-packages/sklearn/preprocessing/_encoders.py:242: UserWarning: Found unknown categories in columns [4] during transform. These unknown categories will be encoded as all zeros\n",
      "  warnings.warn(\n",
      "/Users/humphreyborketey/Documents/fall2024/CS6010/cs6010_fa2024_project_g10/env/lib/python3.12/site-packages/sklearn/preprocessing/_encoders.py:242: UserWarning: Found unknown categories in columns [4] during transform. These unknown categories will be encoded as all zeros\n",
      "  warnings.warn(\n",
      "/Users/humphreyborketey/Documents/fall2024/CS6010/cs6010_fa2024_project_g10/env/lib/python3.12/site-packages/sklearn/preprocessing/_encoders.py:242: UserWarning: Found unknown categories in columns [4] during transform. These unknown categories will be encoded as all zeros\n",
      "  warnings.warn(\n",
      "/Users/humphreyborketey/Documents/fall2024/CS6010/cs6010_fa2024_project_g10/env/lib/python3.12/site-packages/sklearn/preprocessing/_encoders.py:242: UserWarning: Found unknown categories in columns [4] during transform. These unknown categories will be encoded as all zeros\n",
      "  warnings.warn(\n",
      "/Users/humphreyborketey/Documents/fall2024/CS6010/cs6010_fa2024_project_g10/env/lib/python3.12/site-packages/sklearn/preprocessing/_encoders.py:242: UserWarning: Found unknown categories in columns [4] during transform. These unknown categories will be encoded as all zeros\n",
      "  warnings.warn(\n",
      "/Users/humphreyborketey/Documents/fall2024/CS6010/cs6010_fa2024_project_g10/env/lib/python3.12/site-packages/sklearn/preprocessing/_encoders.py:242: UserWarning: Found unknown categories in columns [4] during transform. These unknown categories will be encoded as all zeros\n",
      "  warnings.warn(\n",
      "/Users/humphreyborketey/Documents/fall2024/CS6010/cs6010_fa2024_project_g10/env/lib/python3.12/site-packages/sklearn/preprocessing/_encoders.py:242: UserWarning: Found unknown categories in columns [4] during transform. These unknown categories will be encoded as all zeros\n",
      "  warnings.warn(\n",
      "/Users/humphreyborketey/Documents/fall2024/CS6010/cs6010_fa2024_project_g10/env/lib/python3.12/site-packages/sklearn/preprocessing/_encoders.py:242: UserWarning: Found unknown categories in columns [4] during transform. These unknown categories will be encoded as all zeros\n",
      "  warnings.warn(\n",
      "/Users/humphreyborketey/Documents/fall2024/CS6010/cs6010_fa2024_project_g10/env/lib/python3.12/site-packages/sklearn/preprocessing/_encoders.py:242: UserWarning: Found unknown categories in columns [4] during transform. These unknown categories will be encoded as all zeros\n",
      "  warnings.warn(\n",
      "/Users/humphreyborketey/Documents/fall2024/CS6010/cs6010_fa2024_project_g10/env/lib/python3.12/site-packages/sklearn/preprocessing/_encoders.py:242: UserWarning: Found unknown categories in columns [4] during transform. These unknown categories will be encoded as all zeros\n",
      "  warnings.warn(\n",
      "/Users/humphreyborketey/Documents/fall2024/CS6010/cs6010_fa2024_project_g10/env/lib/python3.12/site-packages/sklearn/preprocessing/_encoders.py:242: UserWarning: Found unknown categories in columns [4] during transform. These unknown categories will be encoded as all zeros\n",
      "  warnings.warn(\n",
      "/Users/humphreyborketey/Documents/fall2024/CS6010/cs6010_fa2024_project_g10/env/lib/python3.12/site-packages/sklearn/preprocessing/_encoders.py:242: UserWarning: Found unknown categories in columns [4] during transform. These unknown categories will be encoded as all zeros\n",
      "  warnings.warn(\n",
      "/Users/humphreyborketey/Documents/fall2024/CS6010/cs6010_fa2024_project_g10/env/lib/python3.12/site-packages/sklearn/preprocessing/_encoders.py:242: UserWarning: Found unknown categories in columns [4] during transform. These unknown categories will be encoded as all zeros\n",
      "  warnings.warn(\n",
      "/Users/humphreyborketey/Documents/fall2024/CS6010/cs6010_fa2024_project_g10/env/lib/python3.12/site-packages/sklearn/preprocessing/_encoders.py:242: UserWarning: Found unknown categories in columns [4] during transform. These unknown categories will be encoded as all zeros\n",
      "  warnings.warn(\n",
      "/Users/humphreyborketey/Documents/fall2024/CS6010/cs6010_fa2024_project_g10/env/lib/python3.12/site-packages/sklearn/preprocessing/_encoders.py:242: UserWarning: Found unknown categories in columns [4] during transform. These unknown categories will be encoded as all zeros\n",
      "  warnings.warn(\n",
      "/Users/humphreyborketey/Documents/fall2024/CS6010/cs6010_fa2024_project_g10/env/lib/python3.12/site-packages/sklearn/preprocessing/_encoders.py:242: UserWarning: Found unknown categories in columns [4] during transform. These unknown categories will be encoded as all zeros\n",
      "  warnings.warn(\n",
      "/Users/humphreyborketey/Documents/fall2024/CS6010/cs6010_fa2024_project_g10/env/lib/python3.12/site-packages/sklearn/preprocessing/_encoders.py:242: UserWarning: Found unknown categories in columns [4] during transform. These unknown categories will be encoded as all zeros\n",
      "  warnings.warn(\n",
      "/Users/humphreyborketey/Documents/fall2024/CS6010/cs6010_fa2024_project_g10/env/lib/python3.12/site-packages/sklearn/preprocessing/_encoders.py:242: UserWarning: Found unknown categories in columns [4] during transform. These unknown categories will be encoded as all zeros\n",
      "  warnings.warn(\n",
      "/Users/humphreyborketey/Documents/fall2024/CS6010/cs6010_fa2024_project_g10/env/lib/python3.12/site-packages/sklearn/preprocessing/_encoders.py:242: UserWarning: Found unknown categories in columns [4] during transform. These unknown categories will be encoded as all zeros\n",
      "  warnings.warn(\n",
      "/Users/humphreyborketey/Documents/fall2024/CS6010/cs6010_fa2024_project_g10/env/lib/python3.12/site-packages/sklearn/preprocessing/_encoders.py:242: UserWarning: Found unknown categories in columns [4] during transform. These unknown categories will be encoded as all zeros\n",
      "  warnings.warn(\n",
      "/Users/humphreyborketey/Documents/fall2024/CS6010/cs6010_fa2024_project_g10/env/lib/python3.12/site-packages/sklearn/preprocessing/_encoders.py:242: UserWarning: Found unknown categories in columns [4] during transform. These unknown categories will be encoded as all zeros\n",
      "  warnings.warn(\n",
      "/Users/humphreyborketey/Documents/fall2024/CS6010/cs6010_fa2024_project_g10/env/lib/python3.12/site-packages/sklearn/preprocessing/_encoders.py:242: UserWarning: Found unknown categories in columns [4] during transform. These unknown categories will be encoded as all zeros\n",
      "  warnings.warn(\n",
      "/Users/humphreyborketey/Documents/fall2024/CS6010/cs6010_fa2024_project_g10/env/lib/python3.12/site-packages/sklearn/preprocessing/_encoders.py:242: UserWarning: Found unknown categories in columns [4] during transform. These unknown categories will be encoded as all zeros\n",
      "  warnings.warn(\n",
      "/Users/humphreyborketey/Documents/fall2024/CS6010/cs6010_fa2024_project_g10/env/lib/python3.12/site-packages/sklearn/preprocessing/_encoders.py:242: UserWarning: Found unknown categories in columns [4] during transform. These unknown categories will be encoded as all zeros\n",
      "  warnings.warn(\n",
      "/Users/humphreyborketey/Documents/fall2024/CS6010/cs6010_fa2024_project_g10/env/lib/python3.12/site-packages/sklearn/preprocessing/_encoders.py:242: UserWarning: Found unknown categories in columns [4] during transform. These unknown categories will be encoded as all zeros\n",
      "  warnings.warn(\n",
      "/Users/humphreyborketey/Documents/fall2024/CS6010/cs6010_fa2024_project_g10/env/lib/python3.12/site-packages/sklearn/preprocessing/_encoders.py:242: UserWarning: Found unknown categories in columns [4] during transform. These unknown categories will be encoded as all zeros\n",
      "  warnings.warn(\n",
      "/Users/humphreyborketey/Documents/fall2024/CS6010/cs6010_fa2024_project_g10/env/lib/python3.12/site-packages/sklearn/preprocessing/_encoders.py:242: UserWarning: Found unknown categories in columns [4] during transform. These unknown categories will be encoded as all zeros\n",
      "  warnings.warn(\n",
      "/Users/humphreyborketey/Documents/fall2024/CS6010/cs6010_fa2024_project_g10/env/lib/python3.12/site-packages/sklearn/preprocessing/_encoders.py:242: UserWarning: Found unknown categories in columns [4] during transform. These unknown categories will be encoded as all zeros\n",
      "  warnings.warn(\n",
      "/Users/humphreyborketey/Documents/fall2024/CS6010/cs6010_fa2024_project_g10/env/lib/python3.12/site-packages/sklearn/preprocessing/_encoders.py:242: UserWarning: Found unknown categories in columns [4] during transform. These unknown categories will be encoded as all zeros\n",
      "  warnings.warn(\n",
      "/Users/humphreyborketey/Documents/fall2024/CS6010/cs6010_fa2024_project_g10/env/lib/python3.12/site-packages/sklearn/preprocessing/_encoders.py:242: UserWarning: Found unknown categories in columns [4] during transform. These unknown categories will be encoded as all zeros\n",
      "  warnings.warn(\n",
      "/Users/humphreyborketey/Documents/fall2024/CS6010/cs6010_fa2024_project_g10/env/lib/python3.12/site-packages/sklearn/preprocessing/_encoders.py:242: UserWarning: Found unknown categories in columns [4] during transform. These unknown categories will be encoded as all zeros\n",
      "  warnings.warn(\n",
      "/Users/humphreyborketey/Documents/fall2024/CS6010/cs6010_fa2024_project_g10/env/lib/python3.12/site-packages/sklearn/preprocessing/_encoders.py:242: UserWarning: Found unknown categories in columns [4] during transform. These unknown categories will be encoded as all zeros\n",
      "  warnings.warn(\n",
      "/Users/humphreyborketey/Documents/fall2024/CS6010/cs6010_fa2024_project_g10/env/lib/python3.12/site-packages/sklearn/preprocessing/_encoders.py:242: UserWarning: Found unknown categories in columns [4] during transform. These unknown categories will be encoded as all zeros\n",
      "  warnings.warn(\n",
      "/Users/humphreyborketey/Documents/fall2024/CS6010/cs6010_fa2024_project_g10/env/lib/python3.12/site-packages/sklearn/preprocessing/_encoders.py:242: UserWarning: Found unknown categories in columns [4] during transform. These unknown categories will be encoded as all zeros\n",
      "  warnings.warn(\n",
      "/Users/humphreyborketey/Documents/fall2024/CS6010/cs6010_fa2024_project_g10/env/lib/python3.12/site-packages/sklearn/preprocessing/_encoders.py:242: UserWarning: Found unknown categories in columns [4] during transform. These unknown categories will be encoded as all zeros\n",
      "  warnings.warn(\n",
      "/Users/humphreyborketey/Documents/fall2024/CS6010/cs6010_fa2024_project_g10/env/lib/python3.12/site-packages/sklearn/preprocessing/_encoders.py:242: UserWarning: Found unknown categories in columns [4] during transform. These unknown categories will be encoded as all zeros\n",
      "  warnings.warn(\n",
      "/Users/humphreyborketey/Documents/fall2024/CS6010/cs6010_fa2024_project_g10/env/lib/python3.12/site-packages/sklearn/preprocessing/_encoders.py:242: UserWarning: Found unknown categories in columns [4] during transform. These unknown categories will be encoded as all zeros\n",
      "  warnings.warn(\n",
      "/Users/humphreyborketey/Documents/fall2024/CS6010/cs6010_fa2024_project_g10/env/lib/python3.12/site-packages/sklearn/preprocessing/_encoders.py:242: UserWarning: Found unknown categories in columns [4] during transform. These unknown categories will be encoded as all zeros\n",
      "  warnings.warn(\n",
      "/Users/humphreyborketey/Documents/fall2024/CS6010/cs6010_fa2024_project_g10/env/lib/python3.12/site-packages/sklearn/preprocessing/_encoders.py:242: UserWarning: Found unknown categories in columns [4] during transform. These unknown categories will be encoded as all zeros\n",
      "  warnings.warn(\n",
      "/Users/humphreyborketey/Documents/fall2024/CS6010/cs6010_fa2024_project_g10/env/lib/python3.12/site-packages/sklearn/preprocessing/_encoders.py:242: UserWarning: Found unknown categories in columns [4] during transform. These unknown categories will be encoded as all zeros\n",
      "  warnings.warn(\n",
      "/Users/humphreyborketey/Documents/fall2024/CS6010/cs6010_fa2024_project_g10/env/lib/python3.12/site-packages/sklearn/preprocessing/_encoders.py:242: UserWarning: Found unknown categories in columns [4] during transform. These unknown categories will be encoded as all zeros\n",
      "  warnings.warn(\n",
      "/Users/humphreyborketey/Documents/fall2024/CS6010/cs6010_fa2024_project_g10/env/lib/python3.12/site-packages/sklearn/preprocessing/_encoders.py:242: UserWarning: Found unknown categories in columns [4] during transform. These unknown categories will be encoded as all zeros\n",
      "  warnings.warn(\n",
      "/Users/humphreyborketey/Documents/fall2024/CS6010/cs6010_fa2024_project_g10/env/lib/python3.12/site-packages/sklearn/preprocessing/_encoders.py:242: UserWarning: Found unknown categories in columns [4] during transform. These unknown categories will be encoded as all zeros\n",
      "  warnings.warn(\n",
      "/Users/humphreyborketey/Documents/fall2024/CS6010/cs6010_fa2024_project_g10/env/lib/python3.12/site-packages/sklearn/preprocessing/_encoders.py:242: UserWarning: Found unknown categories in columns [4] during transform. These unknown categories will be encoded as all zeros\n",
      "  warnings.warn(\n",
      "/Users/humphreyborketey/Documents/fall2024/CS6010/cs6010_fa2024_project_g10/env/lib/python3.12/site-packages/sklearn/preprocessing/_encoders.py:242: UserWarning: Found unknown categories in columns [4] during transform. These unknown categories will be encoded as all zeros\n",
      "  warnings.warn(\n",
      "/Users/humphreyborketey/Documents/fall2024/CS6010/cs6010_fa2024_project_g10/env/lib/python3.12/site-packages/sklearn/preprocessing/_encoders.py:242: UserWarning: Found unknown categories in columns [4] during transform. These unknown categories will be encoded as all zeros\n",
      "  warnings.warn(\n",
      "/Users/humphreyborketey/Documents/fall2024/CS6010/cs6010_fa2024_project_g10/env/lib/python3.12/site-packages/sklearn/preprocessing/_encoders.py:242: UserWarning: Found unknown categories in columns [4] during transform. These unknown categories will be encoded as all zeros\n",
      "  warnings.warn(\n",
      "/Users/humphreyborketey/Documents/fall2024/CS6010/cs6010_fa2024_project_g10/env/lib/python3.12/site-packages/sklearn/preprocessing/_encoders.py:242: UserWarning: Found unknown categories in columns [4] during transform. These unknown categories will be encoded as all zeros\n",
      "  warnings.warn(\n",
      "/Users/humphreyborketey/Documents/fall2024/CS6010/cs6010_fa2024_project_g10/env/lib/python3.12/site-packages/sklearn/preprocessing/_encoders.py:242: UserWarning: Found unknown categories in columns [4] during transform. These unknown categories will be encoded as all zeros\n",
      "  warnings.warn(\n",
      "/Users/humphreyborketey/Documents/fall2024/CS6010/cs6010_fa2024_project_g10/env/lib/python3.12/site-packages/sklearn/preprocessing/_encoders.py:242: UserWarning: Found unknown categories in columns [4] during transform. These unknown categories will be encoded as all zeros\n",
      "  warnings.warn(\n",
      "/Users/humphreyborketey/Documents/fall2024/CS6010/cs6010_fa2024_project_g10/env/lib/python3.12/site-packages/sklearn/preprocessing/_encoders.py:242: UserWarning: Found unknown categories in columns [4] during transform. These unknown categories will be encoded as all zeros\n",
      "  warnings.warn(\n",
      "/Users/humphreyborketey/Documents/fall2024/CS6010/cs6010_fa2024_project_g10/env/lib/python3.12/site-packages/sklearn/preprocessing/_encoders.py:242: UserWarning: Found unknown categories in columns [4] during transform. These unknown categories will be encoded as all zeros\n",
      "  warnings.warn(\n",
      "/Users/humphreyborketey/Documents/fall2024/CS6010/cs6010_fa2024_project_g10/env/lib/python3.12/site-packages/sklearn/preprocessing/_encoders.py:242: UserWarning: Found unknown categories in columns [4] during transform. These unknown categories will be encoded as all zeros\n",
      "  warnings.warn(\n",
      "/Users/humphreyborketey/Documents/fall2024/CS6010/cs6010_fa2024_project_g10/env/lib/python3.12/site-packages/sklearn/preprocessing/_encoders.py:242: UserWarning: Found unknown categories in columns [4] during transform. These unknown categories will be encoded as all zeros\n",
      "  warnings.warn(\n",
      "/Users/humphreyborketey/Documents/fall2024/CS6010/cs6010_fa2024_project_g10/env/lib/python3.12/site-packages/sklearn/preprocessing/_encoders.py:242: UserWarning: Found unknown categories in columns [4] during transform. These unknown categories will be encoded as all zeros\n",
      "  warnings.warn(\n",
      "/Users/humphreyborketey/Documents/fall2024/CS6010/cs6010_fa2024_project_g10/env/lib/python3.12/site-packages/sklearn/preprocessing/_encoders.py:242: UserWarning: Found unknown categories in columns [4] during transform. These unknown categories will be encoded as all zeros\n",
      "  warnings.warn(\n",
      "/Users/humphreyborketey/Documents/fall2024/CS6010/cs6010_fa2024_project_g10/env/lib/python3.12/site-packages/sklearn/preprocessing/_encoders.py:242: UserWarning: Found unknown categories in columns [4] during transform. These unknown categories will be encoded as all zeros\n",
      "  warnings.warn(\n",
      "/Users/humphreyborketey/Documents/fall2024/CS6010/cs6010_fa2024_project_g10/env/lib/python3.12/site-packages/sklearn/preprocessing/_encoders.py:242: UserWarning: Found unknown categories in columns [4] during transform. These unknown categories will be encoded as all zeros\n",
      "  warnings.warn(\n",
      "/Users/humphreyborketey/Documents/fall2024/CS6010/cs6010_fa2024_project_g10/env/lib/python3.12/site-packages/sklearn/preprocessing/_encoders.py:242: UserWarning: Found unknown categories in columns [4] during transform. These unknown categories will be encoded as all zeros\n",
      "  warnings.warn(\n",
      "/Users/humphreyborketey/Documents/fall2024/CS6010/cs6010_fa2024_project_g10/env/lib/python3.12/site-packages/sklearn/preprocessing/_encoders.py:242: UserWarning: Found unknown categories in columns [4] during transform. These unknown categories will be encoded as all zeros\n",
      "  warnings.warn(\n",
      "/Users/humphreyborketey/Documents/fall2024/CS6010/cs6010_fa2024_project_g10/env/lib/python3.12/site-packages/sklearn/preprocessing/_encoders.py:242: UserWarning: Found unknown categories in columns [4] during transform. These unknown categories will be encoded as all zeros\n",
      "  warnings.warn(\n",
      "/Users/humphreyborketey/Documents/fall2024/CS6010/cs6010_fa2024_project_g10/env/lib/python3.12/site-packages/sklearn/preprocessing/_encoders.py:242: UserWarning: Found unknown categories in columns [4] during transform. These unknown categories will be encoded as all zeros\n",
      "  warnings.warn(\n",
      "/Users/humphreyborketey/Documents/fall2024/CS6010/cs6010_fa2024_project_g10/env/lib/python3.12/site-packages/sklearn/preprocessing/_encoders.py:242: UserWarning: Found unknown categories in columns [4] during transform. These unknown categories will be encoded as all zeros\n",
      "  warnings.warn(\n",
      "/Users/humphreyborketey/Documents/fall2024/CS6010/cs6010_fa2024_project_g10/env/lib/python3.12/site-packages/sklearn/preprocessing/_encoders.py:242: UserWarning: Found unknown categories in columns [4] during transform. These unknown categories will be encoded as all zeros\n",
      "  warnings.warn(\n",
      "/Users/humphreyborketey/Documents/fall2024/CS6010/cs6010_fa2024_project_g10/env/lib/python3.12/site-packages/sklearn/preprocessing/_encoders.py:242: UserWarning: Found unknown categories in columns [4] during transform. These unknown categories will be encoded as all zeros\n",
      "  warnings.warn(\n",
      "/Users/humphreyborketey/Documents/fall2024/CS6010/cs6010_fa2024_project_g10/env/lib/python3.12/site-packages/sklearn/preprocessing/_encoders.py:242: UserWarning: Found unknown categories in columns [4] during transform. These unknown categories will be encoded as all zeros\n",
      "  warnings.warn(\n",
      "/Users/humphreyborketey/Documents/fall2024/CS6010/cs6010_fa2024_project_g10/env/lib/python3.12/site-packages/sklearn/preprocessing/_encoders.py:242: UserWarning: Found unknown categories in columns [4] during transform. These unknown categories will be encoded as all zeros\n",
      "  warnings.warn(\n",
      "/Users/humphreyborketey/Documents/fall2024/CS6010/cs6010_fa2024_project_g10/env/lib/python3.12/site-packages/sklearn/preprocessing/_encoders.py:242: UserWarning: Found unknown categories in columns [4] during transform. These unknown categories will be encoded as all zeros\n",
      "  warnings.warn(\n",
      "/Users/humphreyborketey/Documents/fall2024/CS6010/cs6010_fa2024_project_g10/env/lib/python3.12/site-packages/sklearn/preprocessing/_encoders.py:242: UserWarning: Found unknown categories in columns [4] during transform. These unknown categories will be encoded as all zeros\n",
      "  warnings.warn(\n",
      "/Users/humphreyborketey/Documents/fall2024/CS6010/cs6010_fa2024_project_g10/env/lib/python3.12/site-packages/sklearn/preprocessing/_encoders.py:242: UserWarning: Found unknown categories in columns [4] during transform. These unknown categories will be encoded as all zeros\n",
      "  warnings.warn(\n",
      "/Users/humphreyborketey/Documents/fall2024/CS6010/cs6010_fa2024_project_g10/env/lib/python3.12/site-packages/sklearn/preprocessing/_encoders.py:242: UserWarning: Found unknown categories in columns [4] during transform. These unknown categories will be encoded as all zeros\n",
      "  warnings.warn(\n",
      "/Users/humphreyborketey/Documents/fall2024/CS6010/cs6010_fa2024_project_g10/env/lib/python3.12/site-packages/sklearn/preprocessing/_encoders.py:242: UserWarning: Found unknown categories in columns [4] during transform. These unknown categories will be encoded as all zeros\n",
      "  warnings.warn(\n",
      "/Users/humphreyborketey/Documents/fall2024/CS6010/cs6010_fa2024_project_g10/env/lib/python3.12/site-packages/sklearn/preprocessing/_encoders.py:242: UserWarning: Found unknown categories in columns [4] during transform. These unknown categories will be encoded as all zeros\n",
      "  warnings.warn(\n",
      "/Users/humphreyborketey/Documents/fall2024/CS6010/cs6010_fa2024_project_g10/env/lib/python3.12/site-packages/sklearn/preprocessing/_encoders.py:242: UserWarning: Found unknown categories in columns [4] during transform. These unknown categories will be encoded as all zeros\n",
      "  warnings.warn(\n",
      "/Users/humphreyborketey/Documents/fall2024/CS6010/cs6010_fa2024_project_g10/env/lib/python3.12/site-packages/sklearn/preprocessing/_encoders.py:242: UserWarning: Found unknown categories in columns [4] during transform. These unknown categories will be encoded as all zeros\n",
      "  warnings.warn(\n",
      "/Users/humphreyborketey/Documents/fall2024/CS6010/cs6010_fa2024_project_g10/env/lib/python3.12/site-packages/sklearn/preprocessing/_encoders.py:242: UserWarning: Found unknown categories in columns [4] during transform. These unknown categories will be encoded as all zeros\n",
      "  warnings.warn(\n",
      "/Users/humphreyborketey/Documents/fall2024/CS6010/cs6010_fa2024_project_g10/env/lib/python3.12/site-packages/sklearn/preprocessing/_encoders.py:242: UserWarning: Found unknown categories in columns [4] during transform. These unknown categories will be encoded as all zeros\n",
      "  warnings.warn(\n",
      "/Users/humphreyborketey/Documents/fall2024/CS6010/cs6010_fa2024_project_g10/env/lib/python3.12/site-packages/sklearn/preprocessing/_encoders.py:242: UserWarning: Found unknown categories in columns [4] during transform. These unknown categories will be encoded as all zeros\n",
      "  warnings.warn(\n",
      "/Users/humphreyborketey/Documents/fall2024/CS6010/cs6010_fa2024_project_g10/env/lib/python3.12/site-packages/sklearn/preprocessing/_encoders.py:242: UserWarning: Found unknown categories in columns [4] during transform. These unknown categories will be encoded as all zeros\n",
      "  warnings.warn(\n",
      "/Users/humphreyborketey/Documents/fall2024/CS6010/cs6010_fa2024_project_g10/env/lib/python3.12/site-packages/sklearn/preprocessing/_encoders.py:242: UserWarning: Found unknown categories in columns [4] during transform. These unknown categories will be encoded as all zeros\n",
      "  warnings.warn(\n"
     ]
    },
    {
     "name": "stdout",
     "output_type": "stream",
     "text": [
      "Best Parameters: {'classifier__var_smoothing': 1e-10}\n",
      "Best Cross-Validation Accuracy: 0.573768045026736\n",
      "Accuracy: 0.53\n",
      "Precision: 0.50\n",
      "Recall: 0.80\n",
      "F1 Score: 0.62\n"
     ]
    },
    {
     "name": "stderr",
     "output_type": "stream",
     "text": [
      "/Users/humphreyborketey/Documents/fall2024/CS6010/cs6010_fa2024_project_g10/env/lib/python3.12/site-packages/sklearn/preprocessing/_encoders.py:242: UserWarning: Found unknown categories in columns [4] during transform. These unknown categories will be encoded as all zeros\n",
      "  warnings.warn(\n"
     ]
    }
   ],
   "source": [
    "# Define the parameter grid for GaussianNB\n",
    "param_grid = {\n",
    "    'classifier__var_smoothing': [1e-10, 1e-9, 1e-8, 1e-7, 1e-6, 1e-5, 1e-4, 1e-3, 1e-2]\n",
    "}\n",
    "\n",
    "\n",
    "pipe = Pipeline(steps=[\n",
    "    ('preprocessor', features_preprocessor), \n",
    "    ('to_dense', dense_transformer),\n",
    "    ('classifier', GaussianNB())\n",
    "])\n",
    "\n",
    "# Set up GridSearchCV\n",
    "grid_search = GridSearchCV(\n",
    "    estimator=pipe,\n",
    "    param_grid=param_grid,\n",
    "    scoring='f1',\n",
    "    cv=10,  \n",
    "    n_jobs=-1, \n",
    "    verbose=1\n",
    ")\n",
    "\n",
    "grid_search.fit(X_train, y_train)\n",
    "\n",
    "# Print the best parameters and corresponding score\n",
    "print(f\"Best Parameters: {grid_search.best_params_}\")\n",
    "print(f\"Best Cross-Validation Accuracy: {grid_search.best_score_}\")\n",
    "\n",
    "# Evaluate the best model on the evaluation set\n",
    "best_model = grid_search.best_estimator_\n",
    "y_pred = best_model.predict(X_eval)\n",
    "\n",
    "\n",
    "\n",
    "print(f\"Accuracy: {accuracy_score(y_eval, y_pred):.2f}\")\n",
    "print(f\"Precision: {precision_score(y_eval, y_pred, average='binary'):.2f}\")\n",
    "print(f\"Recall: {recall_score(y_eval, y_pred, average='binary'):.2f}\")\n",
    "print(f\"F1 Score: {f1_score(y_eval, y_pred, average='binary'):.2f}\")\n"
   ]
  },
  {
   "cell_type": "code",
   "execution_count": 122,
   "metadata": {},
   "outputs": [
    {
     "name": "stdout",
     "output_type": "stream",
     "text": [
      "The f1 score is 0.6180110968843363\n"
     ]
    }
   ],
   "source": [
    "model = GaussianNB(var_smoothing=1e-10)\n",
    "hyper_pipe = Pipeline(steps=[\n",
    "    ('preprocessor', features_preprocessor), \n",
    "    ('to_dense', dense_transformer),\n",
    "    ('classifier', model)\n",
    "])\n",
    "model = hyper_pipe.fit(X_train,y_train)\n",
    "model1 = model.predict(X_eval)\n",
    "f1 = f1_score(y_eval, model1)\n",
    "print(f'The f1 score is {f1}')"
   ]
  },
  {
   "cell_type": "markdown",
   "metadata": {},
   "source": [
    "#### Export Pipeline"
   ]
  },
  {
   "cell_type": "code",
   "execution_count": 123,
   "metadata": {},
   "outputs": [],
   "source": [
    "to_export = {\n",
    "    \"pipeline\": hyper_pipe\n",
    "}\n",
    "\n",
    "with open('../ml_pipeline.pkl', 'wb') as file:\n",
    "    pickle.dump(to_export, file)"
   ]
  },
  {
   "cell_type": "markdown",
   "metadata": {},
   "source": [
    "#### Save Best Model"
   ]
  },
  {
   "cell_type": "code",
   "execution_count": 124,
   "metadata": {},
   "outputs": [
    {
     "data": {
      "text/plain": [
       "['../best_classification_model.pkl']"
      ]
     },
     "execution_count": 124,
     "metadata": {},
     "output_type": "execute_result"
    }
   ],
   "source": [
    "joblib.dump(hyper_pipe, '../best_classification_model.pkl')"
   ]
  }
 ],
 "metadata": {
  "kernelspec": {
   "display_name": "env",
   "language": "python",
   "name": "python3"
  },
  "language_info": {
   "codemirror_mode": {
    "name": "ipython",
    "version": 3
   },
   "file_extension": ".py",
   "mimetype": "text/x-python",
   "name": "python",
   "nbconvert_exporter": "python",
   "pygments_lexer": "ipython3",
   "version": "3.12.7"
  }
 },
 "nbformat": 4,
 "nbformat_minor": 2
}
